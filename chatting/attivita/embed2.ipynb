{
 "cells": [
  {
   "cell_type": "markdown",
   "metadata": {},
   "source": [
    "## Un'esplorazione del document embedding\n",
    "\n",
    "Luca Mari, marzo 2024\n",
    "\n",
    "[i file di questa attività: [embed2.ipynb](embed2.ipynb), [embedutils.py](embedutils.py)]\n",
    "\n",
    "**Obiettivi**: comprendere la logica del \"sentence embedding\", applicato anche a interi documenti, il processo con cui una rete neurale artificiale converte documenti in vettori numerici su cui è possibile operare, per esempio per fare ricerche per similarità semantica.  \n",
    "**Precompetenze**: basi di Python.\n",
    "\n",
    "Occorre creare un ambiente di lavoro Python, supponiamo con VSCode:\n",
    "* installare un interprete Python\n",
    "* scaricare da https://code.visualstudio.com/download e installare VSCode\n",
    "* eseguire VSCode e attivare le estensioni per Python e Jupyter\n",
    "* ancora in VSCode:\n",
    "    * creare una cartella di lavoro e renderla la cartella corrente:  \n",
    "    * copiare nella cartella questo notebook e il file `embedutils.py` e aprire il notebook\n",
    "    * creare un ambiente virtuale locale Python (Select Kernel | Python Environments | Create Python Environment | Venv, e scegliere un interprete Python):  \n",
    "    * installare i moduli Python richiesti, eseguendo dal terminale:  \n",
    "        `pip install torch transformers multimethod python-docx matplotlib`"
   ]
  },
  {
   "cell_type": "markdown",
   "metadata": {},
   "source": [
    "Per prima cosa, importiamo il modulo che contiene le funzioni per consentire un accesso \"di alto livello\" al modello pre-addestrato che opererà sia come tokenizzatore sia come sistema di embedding, usando in questo caso una versione pre-addestrata e fine tuned, su testi in italiano, di `BERT`, che è un transformer \"open\" (https://it.wikipedia.org/wiki/BERT) ed eseguibile anche localmente (alla prima esecuzione sarà dunque necessario attendere che il modello sia scaricato dal sito di Hugging Face: è un file di circa 400 MB che viene copiato nella cartella HFdata della propria cartella personale) (non discutiamo qui di come questo modello sia stato addestrato a fare embedding)."
   ]
  },
  {
   "cell_type": "code",
   "execution_count": 1,
   "metadata": {},
   "outputs": [],
   "source": [
    "from embedutils import Model, read_files\n",
    "\n",
    "model = Model('dbmdz/bert-base-italian-xxl-cased')"
   ]
  },
  {
   "cell_type": "markdown",
   "metadata": {},
   "source": [
    "Leggiamo alcuni documenti (quali non è evidentemente così importante...), ognuno dei quali sarà embedded, per consentirci di operare poi sui vettori di embedding così ottenuti."
   ]
  },
  {
   "cell_type": "code",
   "execution_count": 2,
   "metadata": {},
   "outputs": [],
   "source": [
    "doc_dir = '/home/lucamari/Documents/Publ/Tutto_Misure/docx'   # cartella contenente i documenti \n",
    "\n",
    "metadata = [                                                  # elenco dei file e dei titoli dei documenti\n",
    "    (\"t_m1.docx\", \"La nuova Guida all'Incertezza di Misura\"),\n",
    "    (\"t_m2.docx\", \"Il nuovo SI (prima parte)\"),\n",
    "    (\"t_m3.docx\", \"Il nuovo SI (seconda parte)\"),\n",
    "    (\"t_m4.docx\", \"La taratura degli strumenti di misura: un tentativo di chiarimento di un problema fondamentale\"),\n",
    "    (\"t_m5.docx\", \"Ancora sul nuovo SI\"),\n",
    "    (\"t_m6.docx\", \"Definizione del misurando e incertezza di definizione: un'introduzione\"),\n",
    "    (\"t_m7.docx\", \"Accuratezza di misura: qualche nota\"),\n",
    "    (\"t_m8.docx\", \"I risultati di misura: un'esplorazione\"),\n",
    "    (\"t_m9.docx\", \"Cos'è la metrologia, insomma?\"),\n",
    "    (\"t_m10.docx\", \"Unità di misura e valori di grandezze: un enigma? (prima parte)\"),\n",
    "    (\"t_m11.docx\", \"Unità di misura e valori di grandezze: un enigma? (seconda parte)\"),\n",
    "    (\"t_m12.docx\", \"Quale ruolo per la metrologia nel mondo dei big data?\"),\n",
    "    (\"t_m13.docx\", \"C'è ancora una differenza tra misurare e calcolare? (prima parte)\"),\n",
    "    (\"t_m14.docx\", \"C'è ancora una differenza tra misurare e calcolare? (seconda parte)\"),\n",
    "    (\"t_m15.docx\", \"La misurazione, tra conservazione e riforma\"),\n",
    "    (\"t_m16.docx\", \"Cosa accadrà alle unità di base nel nuovo SI?\"),\n",
    "    (\"t_m17.docx\", \"Qualche considerazione sul concetto di 'modello di misura'\"),\n",
    "    (\"t_m18.docx\", \"Verso un'incertezza di classificazione - La cultura metrologica nella valutazione delle proprietà classificatorie\"),\n",
    "    (\"t_m19.docx\", \"'Maestra, cos'è un kilo?'\"),\n",
    "    (\"t_m20.docx\", \"La riscoperta del valor vero? (prima parte)\"),\n",
    "    (\"t_m21.docx\", \"La riscoperta del valor vero? (seconda parte)\"),\n",
    "    (\"t_m22.docx\", \"La metrologia tra complessità, incertezza e rischio\"),\n",
    "    (\"t_m23.docx\", \"Le competenze del metrologo, la figura professionale del metrologo\"),\n",
    "    (\"t_m24.docx\", \"Quali competenze ha il metrologo oggi?\"),\n",
    "    (\"t_m25.docx\", \"Verso una nuova edizione del Vocabolario Internazionale di Metrologia (VIM)?\"),\n",
    "    (\"t_m26.docx\", \"A proposito della (spesso sbagliata...) rappresentazione grafica dell'accuratezza e della precisione\"),\n",
    "    (\"t_m27.docx\", \"La scienza della misurazione è una scienza? di che genere?\"),\n",
    "    (\"t_m28.docx\", \"La cultura metrologica tra dataismo e post-verità\"),\n",
    "    (\"t_m29.docx\", \"Il ruolo sociale della cultura metrologica: qualche ipotesi\"),\n",
    "    (\"t_m30.docx\", \"Le scale di misura: un ponte tra mondo empirico e mondo dell'informazione\"),\n",
    "    (\"t_m31.docx\", \"Verso una norma del Tecnico Metrologo\"),\n",
    "    (\"t_m32.docx\", \"Verso un “Manifesto per la cultura metrologica”?\"),\n",
    "    (\"t_m33.docx\", \"Trasformazione digitale: il prossimo obiettivo fondamentale della metrologia fondamentale?\"),\n",
    "    (\"t_m34.docx\", \"In dialogo con un agente artificiale a proposito di qualche argomento di metrologia\"),\n",
    "    (\"t_m35.docx\", \"Una breve introduzione ai sistemi di intelligenza artificiale nella prospettiva della metrologia\"),\n",
    "    (\"t_m36.docx\", \"La terminologia della metrologia: qualche riflessione, con particolare riferimento al caso dei laboratori delle strutture sanitarie\"),\n",
    "    (\"t_m37.docx\", \"La terminologia della metrologia nei laboratori delle strutture sanitarie: un'analisi\")\n",
    "]\n",
    "\n",
    "texts = read_files(metadata, doc_dir)                       # legge i documenti e li mette in una lista di testi"
   ]
  },
  {
   "cell_type": "markdown",
   "metadata": {},
   "source": [
    "Sull'esempio del primo documento, mostriamo quella che è forse la più semplice logica di embedding per documenti: si fa l'embedding di un intero documento, calcolando l'embedding di ogni suo token e poi calcolando la media su tutti i token per ogni elemento dei vettori. A questo scopo useremo per ora solamente il primo layer di `BERT`, dunque senza attivarlo effettivamente come transformer.  \n",
    "Questa semplicità si paga in termini di limitata qualità dei risultati, dato che in questo modo si perde l'informazione sull'ordine dei token nel documento, e quanto più un documento è lungo tanto meno l'embedding finale è significativo."
   ]
  },
  {
   "cell_type": "code",
   "execution_count": 14,
   "metadata": {},
   "outputs": [
    {
     "name": "stdout",
     "output_type": "stream",
     "text": [
      "Il documento ha 2422 token,\n",
      "e corrisponde quindi a una successione di 2422 identificatori numerici.\n",
      "\n",
      "Dato che ogni identificatore corrisponde a un vettore di 768 numeri,\n",
      "facendo l'embedding della successione si ottiene una matrice di (2422, 768) numeri,\n",
      "e infine, facendo la media per feature su tutti i token, un vettore di 768 numeri.\n"
     ]
    }
   ],
   "source": [
    "import numpy as np\n",
    "\n",
    "text = texts[0][1]\n",
    "tokens = np.array(model.tokenizer.tokenize(text))\n",
    "print(f\"Il documento ha {tokens.shape[0]} token,\")\n",
    "\n",
    "ids = np.array(model.tokenizer.convert_tokens_to_ids(tokens))\n",
    "print(f\"e corrisponde quindi a una successione di {ids.shape[0]} identificatori numerici.\")\n",
    "\n",
    "print(f\"\\nDato che ogni identificatore corrisponde a un vettore di {model.embedding_dim} numeri,\")\n",
    "\n",
    "embeddings = model.vocab_embeddings[ids]\n",
    "print(f\"facendo l'embedding della successione si ottiene una matrice di {embeddings.shape} numeri,\")\n",
    "\n",
    "embedding = np.mean(embeddings, axis=0)\n",
    "print(f\"e infine, facendo la media per feature su tutti i token, un vettore di {embedding.shape[0]} numeri.\")"
   ]
  },
  {
   "cell_type": "markdown",
   "metadata": {},
   "source": [
    "In accordo a questa semplice logica, calcoliamo ora l'embedding di tutti i documenti indicati sopra, notando in particolare quanto sia rapido il processo di embedding, che in questo caso è appunto particolarmente semplice."
   ]
  },
  {
   "cell_type": "code",
   "execution_count": 17,
   "metadata": {},
   "outputs": [],
   "source": [
    "embeddings = [model.rough_embed(text) for (_, text) in texts]"
   ]
  },
  {
   "cell_type": "markdown",
   "metadata": {},
   "source": [
    "Sempre per fare qualche prova, calcoliamo la similarità di ogni coppia di documenti e visualizziamo il risultato in una *heatmap*."
   ]
  },
  {
   "cell_type": "code",
   "execution_count": 18,
   "metadata": {},
   "outputs": [
    {
     "data": {
      "image/png": "[encoded data removed]",
      "text/plain": [
       "<Figure size 640x480 with 1 Axes>"
      ]
     },
     "metadata": {},
     "output_type": "display_data"
    }
   ],
   "source": [
    "from embedutils import cosine_similarity\n",
    "import matplotlib.pyplot as plt\n",
    "\n",
    "similarities = [[cosine_similarity(e1, e2) for e1 in embeddings] for e2 in embeddings]\n",
    "plt.imshow(similarities, cmap='cool')\n",
    "plt.show()"
   ]
  },
  {
   "cell_type": "markdown",
   "metadata": {},
   "source": [
    "Dato un documento, per esempio il primo, possiamo elencare gli *n* documenti che gli sono più simili."
   ]
  },
  {
   "cell_type": "code",
   "execution_count": 19,
   "metadata": {},
   "outputs": [
    {
     "name": "stdout",
     "output_type": "stream",
     "text": [
      "Gli n=5 documenti più simili a 'La nuova Guida all'Incertezza di Misura' sono:\n",
      "-- 'La nuova Guida all'Incertezza di Misura' (t_m1.docx), con similarità 1.000\n",
      "-- 'La taratura degli strumenti di misura: un tentativo di chiarimento di un problema fondamentale' (t_m4.docx), con similarità 0.959\n",
      "-- 'Accuratezza di misura: qualche nota' (t_m7.docx), con similarità 0.958\n",
      "-- 'La riscoperta del valor vero? (prima parte)' (t_m20.docx), con similarità 0.957\n",
      "-- 'Cos'è la metrologia, insomma?' (t_m9.docx), con similarità 0.956\n"
     ]
    }
   ],
   "source": [
    "from embedutils import cosine_similarities\n",
    "\n",
    "top_n = 5\n",
    "similarities = np.array(cosine_similarities(embeddings[0], embeddings))\n",
    "indexes = sorted(np.argpartition(similarities, -top_n)[-top_n:], key=lambda i: similarities[i], reverse=True) \n",
    "print(f\"Gli n={top_n} documenti più simili a '{metadata[0][1]}' sono:\")\n",
    "for i in indexes:\n",
    "    print(f\"-- '{metadata[i][1]}' ({metadata[i][0]}), con similarità {similarities[i]:.3f}\")"
   ]
  },
  {
   "cell_type": "markdown",
   "metadata": {},
   "source": [
    "Analogamente, data una query possiamo elencare gli *n* documenti che gli sono più simili per contenuto, e che quindi potebbero essere i più rilevanti per rispondere alla query stessa."
   ]
  },
  {
   "cell_type": "code",
   "execution_count": 20,
   "metadata": {},
   "outputs": [
    {
     "name": "stdout",
     "output_type": "stream",
     "text": [
      "Gli n=5 documenti più simili alla query 'Cosa sono le unità di misura?' sono:\n",
      "-- 'Definizione del misurando e incertezza di definizione: un'introduzione' (t_m6.docx), con similarità 0.583\n",
      "-- 'La scienza della misurazione è una scienza? di che genere?' (t_m27.docx), con similarità 0.580\n",
      "-- 'I risultati di misura: un'esplorazione' (t_m8.docx), con similarità 0.573\n",
      "-- ''Maestra, cos'è un kilo?'' (t_m19.docx), con similarità 0.573\n",
      "-- 'Qualche considerazione sul concetto di 'modello di misura'' (t_m17.docx), con similarità 0.569\n"
     ]
    }
   ],
   "source": [
    "query = \"Cosa sono le unità di misura?\"\n",
    "query_embedding = model.rough_embed(query)\n",
    "\n",
    "similarities = np.array(cosine_similarities(query_embedding, embeddings))\n",
    "\n",
    "top_n = 5\n",
    "indexes = sorted(np.argpartition(similarities, -top_n)[-top_n:], key=lambda i: similarities[i], reverse=True) \n",
    "print(f\"Gli n={top_n} documenti più simili alla query '{query}' sono:\")\n",
    "for i in indexes:\n",
    "    print(f\"-- '{metadata[i][1]}' ({metadata[i][0]}), con similarità {similarities[i]:.3f}\")"
   ]
  },
  {
   "cell_type": "markdown",
   "metadata": {},
   "source": [
    "Ricordando che `BERT` è un transformer *encoder only*, possiamo usarlo in quanto tale per generare dei nuovi embedding degli stessi documenti, questa volta in modo più sofisticato perché si tiene conto della posizione dei token nel documento e sono attivi i layer di attenzione del transformer. E infatti il processo di embedding dei documenti è molto più lento del precedente."
   ]
  },
  {
   "cell_type": "code",
   "execution_count": 21,
   "metadata": {},
   "outputs": [],
   "source": [
    "embeddings = [model.better_embed(text) for (_, text) in texts]"
   ]
  },
  {
   "cell_type": "markdown",
   "metadata": {},
   "source": [
    "Con questi nuovi vettori di embedding, ripetiamo ora quanto fatto sopra per mettere alla prova la qualità dei risultati ottenuti."
   ]
  },
  {
   "cell_type": "code",
   "execution_count": 22,
   "metadata": {},
   "outputs": [
    {
     "data": {
      "image/png": "[encoded data removed]",
      "text/plain": [
       "<Figure size 640x480 with 1 Axes>"
      ]
     },
     "metadata": {},
     "output_type": "display_data"
    }
   ],
   "source": [
    "similarities = [[cosine_similarity(e1, e2) for e1 in embeddings] for e2 in embeddings]\n",
    "plt.imshow(similarities, cmap='cool')\n",
    "plt.show()"
   ]
  },
  {
   "cell_type": "code",
   "execution_count": 24,
   "metadata": {},
   "outputs": [
    {
     "name": "stdout",
     "output_type": "stream",
     "text": [
      "Gli n=5 documenti più simili a 'La nuova Guida all'Incertezza di Misura' sono:\n",
      "-- 'La nuova Guida all'Incertezza di Misura' (t_m1.docx), con similarità 1.000\n",
      "-- 'Cos'è la metrologia, insomma?' (t_m9.docx), con similarità 0.907\n",
      "-- 'La metrologia tra complessità, incertezza e rischio' (t_m22.docx), con similarità 0.904\n",
      "-- 'Definizione del misurando e incertezza di definizione: un'introduzione' (t_m6.docx), con similarità 0.902\n",
      "-- 'Il nuovo SI (prima parte)' (t_m2.docx), con similarità 0.901\n"
     ]
    }
   ],
   "source": [
    "top_n = 5\n",
    "similarities = np.array(cosine_similarities(embeddings[0], embeddings))\n",
    "indexes = sorted(np.argpartition(similarities, -top_n)[-top_n:], key=lambda i: similarities[i], reverse=True) \n",
    "print(f\"Gli n={top_n} documenti più simili a '{metadata[0][1]}' sono:\")\n",
    "for i in indexes:\n",
    "    print(f\"-- '{metadata[i][1]}' ({metadata[i][0]}), con similarità {similarities[i]:.3f}\")"
   ]
  },
  {
   "cell_type": "code",
   "execution_count": 25,
   "metadata": {},
   "outputs": [
    {
     "name": "stdout",
     "output_type": "stream",
     "text": [
      "Gli n=5 documenti più simili alla query 'Cosa sono le unità di misura?' sono:\n",
      "-- 'La riscoperta del valor vero? (seconda parte)' (t_m21.docx), con similarità 0.484\n",
      "-- 'Cosa accadrà alle unità di base nel nuovo SI?' (t_m16.docx), con similarità 0.388\n",
      "-- 'Ancora sul nuovo SI' (t_m5.docx), con similarità 0.369\n",
      "-- 'I risultati di misura: un'esplorazione' (t_m8.docx), con similarità 0.354\n",
      "-- 'Una breve introduzione ai sistemi di intelligenza artificiale nella prospettiva della metrologia' (t_m35.docx), con similarità 0.324\n"
     ]
    }
   ],
   "source": [
    "query = \"Cosa sono le unità di misura?\"\n",
    "query_embedding = model.better_embed(query)\n",
    "\n",
    "similarities = np.array(cosine_similarities(query_embedding, embeddings))\n",
    "\n",
    "top_n = 5\n",
    "indexes = sorted(np.argpartition(similarities, -top_n)[-top_n:], key=lambda i: similarities[i], reverse=True) \n",
    "print(f\"Gli n={top_n} documenti più simili alla query '{query}' sono:\")\n",
    "for i in indexes:\n",
    "    print(f\"-- '{metadata[i][1]}' ({metadata[i][0]}), con similarità {similarities[i]:.3f}\")"
   ]
  },
  {
   "cell_type": "markdown",
   "metadata": {},
   "source": [
    "E plausibilmente otterremmo risultati ancora migliori se usassimo il transformer per fare l'embedding non di interi documenti, ma di loro parti (*chunks*)."
   ]
  }
 ],
 "metadata": {
  "kernelspec": {
   "display_name": ".venv",
   "language": "python",
   "name": "python3"
  },
  "language_info": {
   "codemirror_mode": {
    "name": "ipython",
    "version": 3
   },
   "file_extension": ".py",
   "mimetype": "text/x-python",
   "name": "python",
   "nbconvert_exporter": "python",
   "pygments_lexer": "ipython3",
   "version": "3.11.8"
  }
 },
 "nbformat": 4,
 "nbformat_minor": 2
}
