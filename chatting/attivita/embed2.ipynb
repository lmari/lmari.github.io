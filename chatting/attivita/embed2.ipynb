{
 "cells": [
  {
   "cell_type": "markdown",
   "metadata": {},
   "source": [
    "## Un'esplorazione del *sentence embedding*\n",
    "\n",
    "Luca Mari, aggiornamento, maggio 2024\n",
    "\n",
    "[i file di questa attività: [embed2.ipynb](embed2.ipynb), [embedutils.py](embedutils.py)]\n",
    "\n",
    "**Obiettivi**: comprendere la logica del *sentence embedding*, applicato anche a interi documenti, il processo con cui una rete neurale artificiale converte documenti in vettori numerici su cui è possibile operare, per esempio per fare ricerche per similarità semantica.  \n",
    "**Precompetenze**: basi di Python.\n",
    "\n",
    "Occorre creare un ambiente di lavoro Python, supponiamo con VSCode:\n",
    "* installare un interprete Python\n",
    "* scaricare da https://code.visualstudio.com/download e installare VSCode\n",
    "* eseguire VSCode e attivare le estensioni per Python e Jupyter\n",
    "* ancora in VSCode:\n",
    "    * creare una cartella di lavoro e renderla la cartella corrente:  \n",
    "    * copiare nella cartella questo notebook e il file `embedutils.py` e aprire il notebook\n",
    "    * creare un ambiente virtuale locale Python (Select Kernel | Python Environments | Create Python Environment | Venv, e scegliere un interprete Python):  \n",
    "    * installare i moduli Python richiesti, eseguendo dal terminale:  \n",
    "        `pip install torch transformers multimethod python-docx matplotlib`"
   ]
  },
  {
   "cell_type": "markdown",
   "metadata": {},
   "source": [
    "Per prima cosa, importiamo il modulo che contiene le funzioni per consentire un accesso \"di alto livello\" al modello pre-addestrato che opererà sia come tokenizzatore sia come sistema di embedding, usando in questo caso una versione pre-addestrata e fine tuned proprio per sentence embedding, su testi in italiano, di `BERT`, che è un transformer \"open\" (https://it.wikipedia.org/wiki/BERT) ed eseguibile anche localmente (alla prima esecuzione sarà dunque necessario attendere che il modello sia scaricato dal sito di Hugging Face: è un file di circa 400 MB che viene copiato nella cartella HFdata della propria cartella personale) (non discutiamo qui di come questo modello sia stato addestrato a fare embedding)."
   ]
  },
  {
   "cell_type": "code",
   "execution_count": 2,
   "metadata": {},
   "outputs": [
    {
     "name": "stderr",
     "output_type": "stream",
     "text": [
      "Some weights of BertLMHeadModel were not initialized from the model checkpoint at nickprock/sentence-bert-base-italian-uncased and are newly initialized: ['cls.predictions.bias', 'cls.predictions.decoder.bias', 'cls.predictions.transform.LayerNorm.bias', 'cls.predictions.transform.LayerNorm.weight', 'cls.predictions.transform.dense.bias', 'cls.predictions.transform.dense.weight']\n",
      "You should probably TRAIN this model on a down-stream task to be able to use it for predictions and inference.\n"
     ]
    }
   ],
   "source": [
    "from embedutils import Model, read_files\n",
    "\n",
    "model = Model('nickprock/sentence-bert-base-italian-uncased')"
   ]
  },
  {
   "cell_type": "markdown",
   "metadata": {},
   "source": [
    "Leggiamo alcuni documenti (quali non è evidentemente così importante...), ognuno dei quali sarà embedded, per consentirci di operare poi sui vettori di embedding così ottenuti."
   ]
  },
  {
   "cell_type": "code",
   "execution_count": 3,
   "metadata": {},
   "outputs": [],
   "source": [
    "doc_dir = '/home/lucamari/Documents/Publ/Tutto_Misure/docx'   # cartella contenente i documenti \n",
    "\n",
    "metadata = [                                                  # elenco dei file e dei titoli dei documenti\n",
    "    (\"t_m1.docx\", \"La nuova Guida all'Incertezza di Misura\"),\n",
    "    (\"t_m2.docx\", \"Il nuovo SI (prima parte)\"),\n",
    "    (\"t_m3.docx\", \"Il nuovo SI (seconda parte)\"),\n",
    "    (\"t_m4.docx\", \"La taratura degli strumenti di misura: un tentativo di chiarimento di un problema fondamentale\"),\n",
    "    (\"t_m5.docx\", \"Ancora sul nuovo SI\"),\n",
    "    (\"t_m6.docx\", \"Definizione del misurando e incertezza di definizione: un'introduzione\"),\n",
    "    (\"t_m7.docx\", \"Accuratezza di misura: qualche nota\"),\n",
    "    (\"t_m8.docx\", \"I risultati di misura: un'esplorazione\"),\n",
    "    (\"t_m9.docx\", \"Cos'è la metrologia, insomma?\"),\n",
    "    (\"t_m10.docx\", \"Unità di misura e valori di grandezze: un enigma? (prima parte)\"),\n",
    "    (\"t_m11.docx\", \"Unità di misura e valori di grandezze: un enigma? (seconda parte)\"),\n",
    "    (\"t_m12.docx\", \"Quale ruolo per la metrologia nel mondo dei big data?\"),\n",
    "    (\"t_m13.docx\", \"C'è ancora una differenza tra misurare e calcolare? (prima parte)\"),\n",
    "    (\"t_m14.docx\", \"C'è ancora una differenza tra misurare e calcolare? (seconda parte)\"),\n",
    "    (\"t_m15.docx\", \"La misurazione, tra conservazione e riforma\"),\n",
    "    (\"t_m16.docx\", \"Cosa accadrà alle unità di base nel nuovo SI?\"),\n",
    "    (\"t_m17.docx\", \"Qualche considerazione sul concetto di 'modello di misura'\"),\n",
    "    (\"t_m18.docx\", \"Verso un'incertezza di classificazione - La cultura metrologica nella valutazione delle proprietà classificatorie\"),\n",
    "    (\"t_m19.docx\", \"'Maestra, cos'è un kilo?'\"),\n",
    "    (\"t_m20.docx\", \"La riscoperta del valor vero? (prima parte)\"),\n",
    "    (\"t_m21.docx\", \"La riscoperta del valor vero? (seconda parte)\"),\n",
    "    (\"t_m22.docx\", \"La metrologia tra complessità, incertezza e rischio\"),\n",
    "    (\"t_m23.docx\", \"Le competenze del metrologo, la figura professionale del metrologo\"),\n",
    "    (\"t_m24.docx\", \"Quali competenze ha il metrologo oggi?\"),\n",
    "    (\"t_m25.docx\", \"Verso una nuova edizione del Vocabolario Internazionale di Metrologia (VIM)?\"),\n",
    "    (\"t_m26.docx\", \"A proposito della (spesso sbagliata...) rappresentazione grafica dell'accuratezza e della precisione\"),\n",
    "    (\"t_m27.docx\", \"La scienza della misurazione è una scienza? di che genere?\"),\n",
    "    (\"t_m28.docx\", \"La cultura metrologica tra dataismo e post-verità\"),\n",
    "    (\"t_m29.docx\", \"Il ruolo sociale della cultura metrologica: qualche ipotesi\"),\n",
    "    (\"t_m30.docx\", \"Le scale di misura: un ponte tra mondo empirico e mondo dell'informazione\"),\n",
    "    (\"t_m31.docx\", \"Verso una norma del Tecnico Metrologo\"),\n",
    "    (\"t_m32.docx\", \"Verso un “Manifesto per la cultura metrologica”?\"),\n",
    "    (\"t_m33.docx\", \"Trasformazione digitale: il prossimo obiettivo fondamentale della metrologia fondamentale?\"),\n",
    "    (\"t_m34.docx\", \"In dialogo con un agente artificiale a proposito di qualche argomento di metrologia\"),\n",
    "    (\"t_m35.docx\", \"Una breve introduzione ai sistemi di intelligenza artificiale nella prospettiva della metrologia\"),\n",
    "    (\"t_m36.docx\", \"La terminologia della metrologia: qualche riflessione, con particolare riferimento al caso dei laboratori delle strutture sanitarie\"),\n",
    "    (\"t_m37.docx\", \"La terminologia della metrologia nei laboratori delle strutture sanitarie: un'analisi\")\n",
    "]\n",
    "\n",
    "texts = read_files(metadata, doc_dir)                         # legge i documenti e li mette in una lista di testi"
   ]
  },
  {
   "cell_type": "markdown",
   "metadata": {},
   "source": [
    "Sull'esempio del primo documento, mostriamo quella che è forse la più semplice logica di embedding per documenti: si fa l'embedding di un intero documento, calcolando l'embedding di ogni suo token e poi calcolando la media su tutti i token per ogni elemento dei vettori. A questo scopo useremo per ora solamente il primo layer di `BERT`, dunque senza attivarlo effettivamente come transformer.  \n",
    "Questa semplicità si paga in termini di limitata qualità dei risultati, dato che in questo modo si perde l'informazione sull'ordine dei token nel documento, e quanto più un documento è lungo tanto meno l'embedding finale è significativo."
   ]
  },
  {
   "cell_type": "code",
   "execution_count": 4,
   "metadata": {},
   "outputs": [
    {
     "name": "stdout",
     "output_type": "stream",
     "text": [
      "Il documento ha 2348 token,\n",
      "e corrisponde quindi a una successione di 2348 identificatori numerici.\n",
      "\n",
      "Dato che ogni identificatore corrisponde a un vettore di 768 numeri,\n",
      "facendo l'embedding della successione si ottiene una matrice di (2348, 768) numeri,\n",
      "e infine, facendo la media per feature su tutti i token, un vettore di 768 numeri.\n"
     ]
    }
   ],
   "source": [
    "import numpy as np\n",
    "\n",
    "text = texts[0][1]\n",
    "tokens = np.array(model.tokenizer.tokenize(text))\n",
    "print(f\"Il documento ha {tokens.shape[0]} token,\")\n",
    "\n",
    "ids = np.array(model.tokenizer.convert_tokens_to_ids(tokens))\n",
    "print(f\"e corrisponde quindi a una successione di {ids.shape[0]} identificatori numerici.\")\n",
    "\n",
    "print(f\"\\nDato che ogni identificatore corrisponde a un vettore di {model.embedding_dim} numeri,\")\n",
    "\n",
    "embeddings = model.vocab_embeddings[ids]\n",
    "print(f\"facendo l'embedding della successione si ottiene una matrice di {embeddings.shape} numeri,\")\n",
    "\n",
    "embedding = np.mean(embeddings, axis=0)\n",
    "print(f\"e infine, facendo la media per feature su tutti i token, un vettore di {embedding.shape[0]} numeri.\")"
   ]
  },
  {
   "cell_type": "markdown",
   "metadata": {},
   "source": [
    "In accordo a questa semplice logica, calcoliamo ora l'embedding di tutti i documenti indicati sopra, notando in particolare quanto sia rapido il processo di embedding, che in questo caso è appunto particolarmente semplice anche perché non coinvolge effettivamente il transformer, ma solo il suo primo layer."
   ]
  },
  {
   "cell_type": "code",
   "execution_count": 6,
   "metadata": {},
   "outputs": [],
   "source": [
    "embeddings = [model.rough_embed(text) for (_, text) in texts]"
   ]
  },
  {
   "cell_type": "markdown",
   "metadata": {},
   "source": [
    "Sempre per fare qualche prova, calcoliamo la similarità di ogni coppia di documenti e visualizziamo il risultato in una *heatmap* (che, ovviamente, mostra in particolare, che la massima similarità si ottiene per ogni documento con se stesso)."
   ]
  },
  {
   "cell_type": "code",
   "execution_count": 7,
   "metadata": {},
   "outputs": [
    {
     "data": {
      "image/png": "[encoded data removed]",
      "text/plain": [
       "<Figure size 640x480 with 2 Axes>"
      ]
     },
     "metadata": {},
     "output_type": "display_data"
    }
   ],
   "source": [
    "from embedutils import cosine_similarity\n",
    "import matplotlib.pyplot as plt\n",
    "\n",
    "similarities = [[cosine_similarity(e1, e2) for e1 in embeddings] for e2 in embeddings]\n",
    "plt.imshow(similarities, cmap='cool')\n",
    "plt.colorbar()\n",
    "plt.show()"
   ]
  },
  {
   "cell_type": "markdown",
   "metadata": {},
   "source": [
    "Dato un documento, per esempio il primo, possiamo elencare gli *n* documenti che gli sono più simili."
   ]
  },
  {
   "cell_type": "code",
   "execution_count": 8,
   "metadata": {},
   "outputs": [
    {
     "name": "stdout",
     "output_type": "stream",
     "text": [
      "Gli n=5 documenti più simili a 'La nuova Guida all'Incertezza di Misura' sono:\n",
      "-- 'La nuova Guida all'Incertezza di Misura' (t_m1.docx), con similarità 1.000\n",
      "-- 'La riscoperta del valor vero? (prima parte)' (t_m20.docx), con similarità 0.946\n",
      "-- 'Accuratezza di misura: qualche nota' (t_m7.docx), con similarità 0.946\n",
      "-- 'La terminologia della metrologia nei laboratori delle strutture sanitarie: un'analisi' (t_m37.docx), con similarità 0.944\n",
      "-- 'La taratura degli strumenti di misura: un tentativo di chiarimento di un problema fondamentale' (t_m4.docx), con similarità 0.943\n"
     ]
    }
   ],
   "source": [
    "from embedutils import cosine_similarities\n",
    "\n",
    "top_n = 5\n",
    "similarities = np.array(cosine_similarities(embeddings[0], embeddings))\n",
    "indexes = sorted(np.argpartition(similarities, -top_n)[-top_n:], key=lambda i: similarities[i], reverse=True) \n",
    "print(f\"Gli n={top_n} documenti più simili a '{metadata[0][1]}' sono:\")\n",
    "for i in indexes:\n",
    "    print(f\"-- '{metadata[i][1]}' ({metadata[i][0]}), con similarità {similarities[i]:.3f}\")"
   ]
  },
  {
   "cell_type": "markdown",
   "metadata": {},
   "source": [
    "Analogamente, data una query possiamo farne l'embedding e quindi elencare gli *n* documenti che gli sono più simili per contenuto, e che quindi potebbero essere i più rilevanti per rispondere alla query stessa."
   ]
  },
  {
   "cell_type": "code",
   "execution_count": 9,
   "metadata": {},
   "outputs": [
    {
     "name": "stdout",
     "output_type": "stream",
     "text": [
      "Gli n=5 documenti più simili alla query 'Cosa sono le unità di misura?' sono:\n",
      "-- ''Maestra, cos'è un kilo?'' (t_m19.docx), con similarità 0.590\n",
      "-- 'Ancora sul nuovo SI' (t_m5.docx), con similarità 0.580\n",
      "-- 'Qualche considerazione sul concetto di 'modello di misura'' (t_m17.docx), con similarità 0.577\n",
      "-- 'A proposito della (spesso sbagliata...) rappresentazione grafica dell'accuratezza e della precisione' (t_m26.docx), con similarità 0.570\n",
      "-- 'Definizione del misurando e incertezza di definizione: un'introduzione' (t_m6.docx), con similarità 0.565\n"
     ]
    }
   ],
   "source": [
    "query = \"Cosa sono le unità di misura?\"\n",
    "query_embedding = model.rough_embed(query)\n",
    "\n",
    "similarities = np.array(cosine_similarities(query_embedding, embeddings))\n",
    "\n",
    "top_n = 5\n",
    "indexes = sorted(np.argpartition(similarities, -top_n)[-top_n:], key=lambda i: similarities[i], reverse=True) \n",
    "print(f\"Gli n={top_n} documenti più simili alla query '{query}' sono:\")\n",
    "for i in indexes:\n",
    "    print(f\"-- '{metadata[i][1]}' ({metadata[i][0]}), con similarità {similarities[i]:.3f}\")"
   ]
  },
  {
   "cell_type": "markdown",
   "metadata": {},
   "source": [
    "Ricordando che `BERT` è un transformer *encoder only*, possiamo usarlo in quanto tale per generare dei nuovi embedding degli stessi documenti, questa volta in modo più sofisticato perché si tiene conto della posizione dei token nel documento e sono attivi i layer di attenzione del transformer. E infatti il processo di embedding dei documenti è molto più lento del precedente."
   ]
  },
  {
   "cell_type": "code",
   "execution_count": 10,
   "metadata": {},
   "outputs": [],
   "source": [
    "embeddings2 = [model.better_embed(text) for (_, text) in texts]"
   ]
  },
  {
   "cell_type": "markdown",
   "metadata": {},
   "source": [
    "Con questi nuovi vettori di embedding, ripetiamo ora quanto fatto sopra per mettere alla prova la qualità dei risultati ottenuti."
   ]
  },
  {
   "cell_type": "code",
   "execution_count": 11,
   "metadata": {},
   "outputs": [
    {
     "data": {
      "image/png": "[encoded data removed]",
      "text/plain": [
       "<Figure size 640x480 with 2 Axes>"
      ]
     },
     "metadata": {},
     "output_type": "display_data"
    }
   ],
   "source": [
    "similarities = [[cosine_similarity(e1, e2) for e1 in embeddings2] for e2 in embeddings2]\n",
    "plt.imshow(similarities, cmap='cool')\n",
    "plt.colorbar()\n",
    "plt.show()"
   ]
  },
  {
   "cell_type": "code",
   "execution_count": 12,
   "metadata": {},
   "outputs": [
    {
     "name": "stdout",
     "output_type": "stream",
     "text": [
      "Gli n=5 documenti più simili a 'La nuova Guida all'Incertezza di Misura' sono:\n",
      "-- 'La nuova Guida all'Incertezza di Misura' (t_m1.docx), con similarità 1.000\n",
      "-- 'La misurazione, tra conservazione e riforma' (t_m15.docx), con similarità 0.819\n",
      "-- 'Verso un'incertezza di classificazione - La cultura metrologica nella valutazione delle proprietà classificatorie' (t_m18.docx), con similarità 0.793\n",
      "-- 'Cos'è la metrologia, insomma?' (t_m9.docx), con similarità 0.777\n",
      "-- 'Una breve introduzione ai sistemi di intelligenza artificiale nella prospettiva della metrologia' (t_m35.docx), con similarità 0.774\n"
     ]
    }
   ],
   "source": [
    "top_n = 5\n",
    "similarities = np.array(cosine_similarities(embeddings2[0], embeddings2))\n",
    "indexes = sorted(np.argpartition(similarities, -top_n)[-top_n:], key=lambda i: similarities[i], reverse=True) \n",
    "print(f\"Gli n={top_n} documenti più simili a '{metadata[0][1]}' sono:\")\n",
    "for i in indexes:\n",
    "    print(f\"-- '{metadata[i][1]}' ({metadata[i][0]}), con similarità {similarities[i]:.3f}\")"
   ]
  },
  {
   "cell_type": "code",
   "execution_count": 28,
   "metadata": {},
   "outputs": [
    {
     "name": "stdout",
     "output_type": "stream",
     "text": [
      "Gli n=5 documenti più simili alla query 'Cosa sono le unità di misura?' sono:\n",
      "-- 'Il nuovo SI (prima parte)' (t_m2.docx), con similarità 0.611\n",
      "-- 'Verso una norma del Tecnico Metrologo' (t_m31.docx), con similarità 0.589\n",
      "-- 'I risultati di misura: un'esplorazione' (t_m8.docx), con similarità 0.565\n",
      "-- 'Unità di misura e valori di grandezze: un enigma? (prima parte)' (t_m10.docx), con similarità 0.535\n",
      "-- 'La taratura degli strumenti di misura: un tentativo di chiarimento di un problema fondamentale' (t_m4.docx), con similarità 0.526\n"
     ]
    }
   ],
   "source": [
    "query = \"Cosa sono le unità di misura?\"\n",
    "query_embedding = model.better_embed(query)\n",
    "\n",
    "similarities = np.array(cosine_similarities(query_embedding, embeddings2))\n",
    "\n",
    "top_n = 5\n",
    "indexes = sorted(np.argpartition(similarities, -top_n)[-top_n:], key=lambda i: similarities[i], reverse=True) \n",
    "print(f\"Gli n={top_n} documenti più simili alla query '{query}' sono:\")\n",
    "for i in indexes:\n",
    "    print(f\"-- '{metadata[i][1]}' ({metadata[i][0]}), con similarità {similarities[i]:.3f}\")"
   ]
  },
  {
   "cell_type": "markdown",
   "metadata": {},
   "source": [
    "E plausibilmente otterremmo risultati ancora migliori se usassimo il transformer per fare l'embedding non di interi documenti, ma di loro parti (*chunks*). Proviamo dividendo in paragrafi: notiamo che ora il processo di embedding, ripetuto dunque su un numero maggiore di testi, è ancora più lento del precedente."
   ]
  },
  {
   "cell_type": "code",
   "execution_count": 32,
   "metadata": {},
   "outputs": [
    {
     "name": "stdout",
     "output_type": "stream",
     "text": [
      "Numero di paragrafi: 839; lunghezza media: 553.75; massima: 2852; minima: 101\n"
     ]
    }
   ],
   "source": [
    "from embedutils import read_files2\n",
    "\n",
    "paragraphs = read_files2(metadata, doc_dir)\n",
    "\n",
    "p_len = [len(text) for (_, _, text) in paragraphs]\n",
    "print(f\"Numero di paragrafi: {len(p_len)}; lunghezza media: {np.mean(p_len):.2f}; massima: {np.max(p_len)}; minima: {np.min(p_len)}\")"
   ]
  },
  {
   "cell_type": "code",
   "execution_count": 15,
   "metadata": {},
   "outputs": [],
   "source": [
    "embeddings3 = [model.better_embed(text) for (_, _, text) in paragraphs]"
   ]
  },
  {
   "cell_type": "code",
   "execution_count": 42,
   "metadata": {},
   "outputs": [
    {
     "name": "stdout",
     "output_type": "stream",
     "text": [
      "Gli n=5 paragrafi più simili alla query 'Cosa sono le unità di misura?' sono:\n",
      "\n",
      "-- t_m23.docx, paragrafo 18, con similarità 0.823\n",
      "{'gli elementi di base di analisi matematica, statistica e informatica '\n",
      " 'necessari per la progettazione del processo di misura e l’elaborazione dei '\n",
      " 'dati di misura, e'}\n",
      "\n",
      "-- t_m10.docx, paragrafo 10, con similarità 0.809\n",
      "{'unità di misura: grandezza scalare reale, definita e adottata per '\n",
      " 'convenzione, rispetto alla quale è possibile confrontare ogni altra '\n",
      " 'grandezza della stessa specie al fine di esprimere il rapporto delle due '\n",
      " 'grandezze come un numero'}\n",
      "\n",
      "-- t_m36.docx, paragrafo 3, con similarità 0.809\n",
      "{'unità di misura: grandezza scalare reale, definita e adottata per '\n",
      " 'convenzione, rispetto alla quale è possibile confrontare ogni altra '\n",
      " 'grandezza della stessa specie al fine di esprimere il rapporto delle due '\n",
      " 'grandezze come un numero'}\n",
      "\n",
      "-- t_m17.docx, paragrafo 11, con similarità 0.784\n",
      "{'Ciò rende ben conto del ruolo fondamentale della misurazione: un processo '\n",
      " 'che produce informazione (valori di grandezze) su, e a partire da, entità '\n",
      " 'empiriche (grandezze di oggetti).'}\n",
      "\n",
      "-- t_m5.docx, paragrafo 27, con similarità 0.777\n",
      "{'Un sistema di unità è dunque definito secondo questa logica: – si assumono '\n",
      " 'un sistema di equazioni tra grandezze e un insieme di grandezze costanti '\n",
      " '{Ci} in numero corrispondente alla dimensione della base del sistema;'}\n",
      "\n"
     ]
    }
   ],
   "source": [
    "from pprint import pprint\n",
    "\n",
    "query = \"Cosa sono le unità di misura?\"\n",
    "query_embedding = model.better_embed(query)\n",
    "\n",
    "similarities = np.array(cosine_similarities(query_embedding, embeddings3))\n",
    "\n",
    "top_n = 5\n",
    "indexes = sorted(np.argpartition(similarities, -top_n)[-top_n:], key=lambda i: similarities[i], reverse=True) \n",
    "print(f\"Gli n={top_n} paragrafi più simili alla query '{query}' sono:\\n\")\n",
    "for i in indexes:\n",
    "    print(f\"-- {paragraphs[i][0]}, paragrafo {paragraphs[i][1]}, con similarità {similarities[i]:.3f}\")\n",
    "    pprint({paragraphs[i][2]})\n",
    "    print()"
   ]
  },
  {
   "cell_type": "markdown",
   "metadata": {},
   "source": [
    "Proviamo un'altra volta, ora dividendo il testo di ogni documento in frasi. "
   ]
  },
  {
   "cell_type": "code",
   "execution_count": 30,
   "metadata": {},
   "outputs": [
    {
     "name": "stdout",
     "output_type": "stream",
     "text": [
      "Numero di frasi: 2381; lunghezza media: 193.21; massima: 923; minima: 11\n"
     ]
    }
   ],
   "source": [
    "from embedutils import read_files3\n",
    "\n",
    "sentences = read_files3(metadata, doc_dir)\n",
    "\n",
    "s_len = [len(text) for (_, _, text) in sentences]\n",
    "print(f\"Numero di frasi: {len(s_len)}; lunghezza media: {np.mean(s_len):.2f}; massima: {np.max(s_len)}; minima: {np.min(s_len)}\")"
   ]
  },
  {
   "cell_type": "code",
   "execution_count": 27,
   "metadata": {},
   "outputs": [],
   "source": [
    "embeddings4 = [model.better_embed(text) for (_, _, text) in sentences]"
   ]
  },
  {
   "cell_type": "code",
   "execution_count": 41,
   "metadata": {},
   "outputs": [
    {
     "name": "stdout",
     "output_type": "stream",
     "text": [
      "Le n=5 frasi più simili alla query 'Cosa sono le unità di misura?' sono:\n",
      "\n",
      "-- t_m30.docx, frase 39, con similarità 0.867\n",
      "{' Cos’è una scala di misura, dunque?'}\n",
      "\n",
      "-- t_m10.docx, frase 58, con similarità 0.836\n",
      "{'Con ciò l’investigatore ha fornito una giustificazione all’obiezione '\n",
      " 'preliminare che gli era stata rivolta, e può dunque cominciare la sua '\n",
      " 'indagine intorno al problema: cos’è un’unità di misura?'}\n",
      "\n",
      "-- t_m5.docx, frase 54, con similarità 0.825\n",
      "{'Un sistema di unità è dunque definito secondo questa logica:'}\n",
      "\n",
      "-- t_m23.docx, frase 48, con similarità 0.823\n",
      "{'gli elementi di base di analisi matematica, statistica e informatica '\n",
      " 'necessari per la progettazione del processo di misura e l’elaborazione dei '\n",
      " 'dati di misura, e'}\n",
      "\n",
      "-- t_m19.docx, frase 13, con similarità 0.815\n",
      "{' Ma anche costoro si riferiscono alle unità di misura quando operano con '\n",
      " 'valori di grandezze'}\n",
      "\n"
     ]
    }
   ],
   "source": [
    "from pprint import pprint\n",
    "\n",
    "query = \"Cosa sono le unità di misura?\"\n",
    "query_embedding = model.better_embed(query)\n",
    "\n",
    "similarities = np.array(cosine_similarities(query_embedding, embeddings4))\n",
    "\n",
    "top_n = 5\n",
    "indexes = sorted(np.argpartition(similarities, -top_n)[-top_n:], key=lambda i: similarities[i], reverse=True) \n",
    "print(f\"Le n={top_n} frasi più simili alla query '{query}' sono:\\n\")\n",
    "for i in indexes:\n",
    "    print(f\"-- {sentences[i][0]}, frase {sentences[i][1]}, con similarità {similarities[i]:.3f}\")\n",
    "    pprint({sentences[i][2]})\n",
    "    print()"
   ]
  },
  {
   "cell_type": "markdown",
   "metadata": {},
   "source": [
    "Anche se pare che i risultati siano corretti, è evidente che le singole frasi sono generalmente troppo brevi per ricevarne un contesto, e quindi una risposta alla domanda. Una volta trovate le singole frasi più rilevanti, possiamo allora per esempio estendere la risposta concatenando a ogni frase trovata le *n* frasi precedenti e le *n* successive."
   ]
  },
  {
   "cell_type": "code",
   "execution_count": 43,
   "metadata": {},
   "outputs": [
    {
     "name": "stdout",
     "output_type": "stream",
     "text": [
      "Le n=5 frasi estese più simili alla query 'Cosa sono le unità di misura?' sono:\n",
      "\n",
      "-- t_m8.docx, frasi 54-58, con similarità 0.823\n",
      "(' Il metodo Monte Carlo, basato sulla non problematica disponibilità di '\n",
      " 'risorse di calcolo, mostra come calcolare funzioni su distribuzioni di '\n",
      " 'probabilità, e quindi fornisce uno strumento per applicare le leggi della '\n",
      " 'fisica a distribuzioni di probabilità Il quadro che emerge da questa '\n",
      " 'molteplicità di opzioni è di notevole flessibilità, concettuale e '\n",
      " 'applicativa  Con generalizzazioni progressive, abbiamo visto che un '\n",
      " 'risultato di misura può essere: – un singolo valore di grandezza, il cui '\n",
      " 'numero di cifre significative porta l’informazione sull’incertezza di '\n",
      " 'misura; – una coppia valore misurato, incertezza tipo;')\n",
      "\n",
      "-- t_m4.docx, frasi 19-23, con similarità 0.809\n",
      "(' confusione?): «Spesso, solamente la prima fase citata nella presente '\n",
      " 'definizione è interpretata come taratura Dunque? Una sola o due fasi? Un '\n",
      " 'tentativo di chiarimento Per trovare la risposta al nostro problema '\n",
      " 'suggerisco di partire dalla definizione di un concetto operativamente ancora '\n",
      " 'più fondamentale, quello di risultato di misura, anch’esso modificato nel '\n",
      " 'passaggio da VIM2 a VIM3: A mio modesto parere, questo è il buon esempio di '\n",
      " 'una situazione in cui il lettore avrebbe ragioni per spazientirsi, e '\n",
      " 'reclamare una maggiore chiarezza da parte di chi scrive queste definizioni: '\n",
      " 'perché il VIM3 parla di un insieme di valori? e cosa dovrebbe o potrebbe '\n",
      " 'essere questa “altra informazione pertinente”?')\n",
      "\n",
      "-- t_m13.docx, frasi 34-38, con similarità 0.809\n",
      "('– la significatività empirica dell’informazione calcolata (attraverso C5): '\n",
      " 'la computazione è basata su una legge empirica nota, e non su una qualsiasi '\n",
      " 'equazione matematica; – la valutazione della qualità dell’informazione '\n",
      " 'trattata (attraverso C3 e C6): al valore di ogni grandezza è associata '\n",
      " 'un’incertezza tipo, e non si trattano solo numeri, pur eventualmente con '\n",
      " 'unità di misura Le condizioni C1-C6 caratterizzano in modo non controverso '\n",
      " 'una struttura di misurazione indiretta, e possono perciò essere considerate '\n",
      " 'condizioni sufficienti di misurazione  Il punto è: si può eliminare una o '\n",
      " 'più di queste condizioni, e nondimeno continuare ad accettare che il '\n",
      " 'processo così ottenuto sia una misurazione indiretta? O al contrario si '\n",
      " 'tratta di condizioni anche necessarie, così che anche solo eliminandone una '\n",
      " 'si ottiene un processo che non può essere considerato una misurazione? Il '\n",
      " 'termine “misurazione” non è un marchio registrato, e quindi non è a un '\n",
      " 'riferimento di natura giuridica a cui possiamo rivolgerci per rispondere a '\n",
      " 'questa domanda')\n",
      "\n",
      "-- t_m7.docx, frasi 3-7, con similarità 0.784\n",
      "(' Nondimeno intorno a esso ci sono varie ambiguità, che ne rendono il '\n",
      " 'significato e l’uso problematici  Con questo breve articolo non ho certo '\n",
      " 'l’ambizione di chiarire alcunché: vorrei piuttosto riuscire a mettere in '\n",
      " 'evidenza l’esistenza del problema, e accennare a una direzione che potrebbe '\n",
      " 'essere seguita per la sua soluzione Anche solo una rapida ricognizione della '\n",
      " 'letteratura scientifica e tecnica mette in evidenza che intorno '\n",
      " 'all’accuratezza di misura c’è qualche difficoltà  Consideriamo per esempio '\n",
      " 'le seguenti tre affermazioni:  “The accuracy of a measurement of a variable '\n",
      " 'is the closeness of the measurement to the true value of the variable')\n",
      "\n",
      "-- t_m3.docx, frasi -2-2, con similarità 0.777\n",
      "('Wikipedia, Proposed redefinition of SI base units; http://en '\n",
      " 'org/wiki/Proposed_redefinition_of_SI_base_units Il nuovo SI (seconda parte) '\n",
      " 'Come ho ricordato nella prima parte di questo articolo, pubblicata sul '\n",
      " 'numero 2/2015 di T_M, è in corso di realizzazione una revisione strutturale '\n",
      " 'del Sistema Internazionale di unità (SI), che potrebbe completarsi nel 2018 '\n",
      " 'con la pubblicazione di una nuova edizione della Brochure SI  La Conferenza '\n",
      " 'Generale dei Pesi e delle Misure (CGPM) ha recentemente raccomandato di '\n",
      " 'adoperarsi in una “campagna di sensibilizzazione rivolta alle diverse '\n",
      " 'comunità di utenti e al pubblico generale” e per far sì che la nuova '\n",
      " 'edizione della Brochure SI “presenti il SI revisionato in modo che possa '\n",
      " 'essere compreso dai diversi possibili lettori senza comprometterne il rigore '\n",
      " 'scientifico” [CGPM 2014]')\n",
      "\n"
     ]
    }
   ],
   "source": [
    "ext_n = 2\n",
    "\n",
    "print(f\"Le n={top_n} frasi estese più simili alla query '{query}' sono:\\n\")\n",
    "for i in indexes:\n",
    "    print(f\"-- {sentences[i][0]}, frasi {sentences[i][1]-ext_n}-{sentences[i][1]+ext_n}, con similarità {similarities[i]:.3f}\")\n",
    "    pprint(' '.join([sentences[i+j][2] for j in range(-ext_n, ext_n+1)]))\n",
    "\n",
    "    #pprint(f\"{sentences[i][2]}\")\n",
    "    print()"
   ]
  }
 ],
 "metadata": {
  "kernelspec": {
   "display_name": ".venv",
   "language": "python",
   "name": "python3"
  },
  "language_info": {
   "codemirror_mode": {
    "name": "ipython",
    "version": 3
   },
   "file_extension": ".py",
   "mimetype": "text/x-python",
   "name": "python",
   "nbconvert_exporter": "python",
   "pygments_lexer": "ipython3",
   "version": "3.11.8"
  }
 },
 "nbformat": 4,
 "nbformat_minor": 2
}
