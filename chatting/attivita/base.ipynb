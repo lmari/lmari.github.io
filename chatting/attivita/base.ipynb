{
 "cells": [
  {
   "cell_type": "markdown",
   "metadata": {},
   "source": [
    "## Un'introduzione operativa agli LLM\n",
    "### Con accesso a un LLM locale attraverso un server di API\n",
    "\n",
    "Luca Mari, febbraio 2024\n",
    "\n",
    "[i file di questa attività: [base.ipynb](base.ipynb), [utils.py](utils.py)]\n",
    "\n",
    "**Obiettivi**: comprendere la logica dell'accesso a un LLM attraverso una API.  \n",
    "**Precompetenze**: basi di Python.\n",
    "\n",
    "Al momento un sistema semplice per eseguire sul proprio computer un LLM e accedere a esso attraverso una API è LM Studio:\n",
    "* scaricare da https://lmstudio.ai e installare LM Studio\n",
    "* eseguire LM Studio e seguendo le indicazioni nel programma:\n",
    "    * scaricare dalla rete un LLM (per esempio **TheBloke mistral openorca 7B Q4_0 gguf**)\n",
    "    * caricare il LLM\n",
    "    * mettere in esecuzione il server\n",
    "\n",
    "Occorre ora creare un ambiente di lavoro Python, supponiamo con VSCode:\n",
    "* installare un interprete Python\n",
    "* scaricare da https://code.visualstudio.com/download e installare VSCode\n",
    "* eseguire VSCode e attivare le estensioni per Python e Jupyter\n",
    "* ancora in VSCode:\n",
    "    * creare una cartella di lavoro e renderla la cartella corrente:  \n",
    "    * copiare nella cartella questo notebook e il file `utils.py` e aprire il notebook\n",
    "    * creare un ambiente virtuale locale Python (Select Kernel | Python Environments | Create Python Environment | Venv, e scegliere un interprete Python):  \n",
    "    * installare il modulo Python richiesto, eseguendo dal terminale:  \n",
    "        `pip install openai`"
   ]
  },
  {
   "cell_type": "markdown",
   "metadata": {},
   "source": [
    "Per prima cosa, importiamo il modulo che contiene le funzioni per consentire un accesso \"di alto livello\" al LLM in esecuzione in LM Studio e quindi attiviamo la connessione al LLM."
   ]
  },
  {
   "cell_type": "code",
   "execution_count": 1,
   "metadata": {},
   "outputs": [],
   "source": [
    "from utils import llm\n",
    "llm = llm()"
   ]
  },
  {
   "cell_type": "markdown",
   "metadata": {},
   "source": [
    "A questo punto siamo già pronti per fare una domanda al LLM, ricevere e visualizzare la risposta."
   ]
  },
  {
   "cell_type": "code",
   "execution_count": 2,
   "metadata": {},
   "outputs": [
    {
     "name": "stdout",
     "output_type": "stream",
     "text": [
      "ChatCompletion(id='chatcmpl-xebugmlb63jbvn6udr8emc', choices=[Choice(finish_reason='stop', index=0, logprobs=None, message=ChatCompletionMessage(content=\"The main features of the Bayesian interpretation of probability include its subjective nature, where personal beliefs and experiences affect judgments; it updates probabilities based on new information through Bayes' theorem; and it focuses on personal degrees of belief rather than frequentist occurrences in an infinite population or sample space.\", role='assistant', function_call=None, tool_calls=None))], created=1707748761, model='/home/lucamari/.local/share/nomic.ai/GPT4All/TheBloke/mistral-7b-openorca.Q4_0/mistral-7b-openorca.Q4_0.gguf', object='chat.completion', system_fingerprint=None, usage=CompletionUsage(completion_tokens=62, prompt_tokens=62, total_tokens=124))\n"
     ]
    }
   ],
   "source": [
    "prompt = \"What are the main features of the Bayesian interpretation of probability? Please answer in one or two sentences.\"\n",
    "answer = llm.request(prompt)\n",
    "print(answer)"
   ]
  },
  {
   "cell_type": "markdown",
   "metadata": {},
   "source": [
    "La risposta non è molto leggibile, perché è un oggetto Python. Per curiosità, ne possiamo visualizzare il contenuto come un oggetto JSON."
   ]
  },
  {
   "cell_type": "code",
   "execution_count": 3,
   "metadata": {},
   "outputs": [
    {
     "name": "stdout",
     "output_type": "stream",
     "text": [
      "{\n",
      "  \"id\": \"chatcmpl-xebugmlb63jbvn6udr8emc\",\n",
      "  \"choices\": [\n",
      "    {\n",
      "      \"finish_reason\": \"stop\",\n",
      "      \"index\": 0,\n",
      "      \"logprobs\": null,\n",
      "      \"message\": {\n",
      "        \"content\": \"The main features of the Bayesian interpretation of probability include its subjective nature, where personal beliefs and experiences affect judgments; it updates probabilities based on new information through Bayes' theorem; and it focuses on personal degrees of belief rather than frequentist occurrences in an infinite population or sample space.\",\n",
      "        \"role\": \"assistant\",\n",
      "        \"function_call\": null,\n",
      "        \"tool_calls\": null\n",
      "      }\n",
      "    }\n",
      "  ],\n",
      "  \"created\": 1707748761,\n",
      "  \"model\": \"/home/lucamari/.local/share/nomic.ai/GPT4All/TheBloke/mistral-7b-openorca.Q4_0/mistral-7b-openorca.Q4_0.gguf\",\n",
      "  \"object\": \"chat.completion\",\n",
      "  \"system_fingerprint\": null,\n",
      "  \"usage\": {\n",
      "    \"completion_tokens\": 62,\n",
      "    \"prompt_tokens\": 62,\n",
      "    \"total_tokens\": 124\n",
      "  }\n",
      "}\n"
     ]
    }
   ],
   "source": [
    "from utils import jprint\n",
    "jprint(answer)"
   ]
  },
  {
   "cell_type": "markdown",
   "metadata": {},
   "source": [
    "Per visualizzare solo il testo della risposta, usiamo la funzione `bprint` dal modulo `utils`."
   ]
  },
  {
   "cell_type": "code",
   "execution_count": 4,
   "metadata": {},
   "outputs": [
    {
     "name": "stdout",
     "output_type": "stream",
     "text": [
      "The main features of the Bayesian interpretation of probability include its subjective nature, where\n",
      "personal beliefs and experiences affect judgments; it updates probabilities based on new information\n",
      "through Bayes' theorem; and it focuses on personal degrees of belief rather than frequentist\n",
      "occurrences in an infinite population or sample space.\n"
     ]
    }
   ],
   "source": [
    "from utils import bprint\n",
    "bprint(answer)"
   ]
  },
  {
   "cell_type": "markdown",
   "metadata": {},
   "source": [
    "Ancora meglio, possiamo attivare la funzione per visualizzare i token progressivamente, mano a mano che vengono generati."
   ]
  },
  {
   "cell_type": "code",
   "execution_count": 5,
   "metadata": {},
   "outputs": [
    {
     "name": "stdout",
     "output_type": "stream",
     "text": [
      "The Bayesian interpretation of probability is a framework for updating beliefs about uncertain events\n",
      " using Bayes' theorem, allowing individuals to incorporate new information and evidence into their existing\n",
      " beliefs while accounting for the degree of confidence in those beliefs."
     ]
    }
   ],
   "source": [
    "from utils import aprint\n",
    "aprint(llm.request(prompt, stream=True))"
   ]
  }
 ],
 "metadata": {
  "kernelspec": {
   "display_name": "venv",
   "language": "python",
   "name": "python3"
  },
  "language_info": {
   "codemirror_mode": {
    "name": "ipython",
    "version": 3
   },
   "file_extension": ".py",
   "mimetype": "text/x-python",
   "name": "python",
   "nbconvert_exporter": "python",
   "pygments_lexer": "ipython3",
   "version": "3.11.6"
  }
 },
 "nbformat": 4,
 "nbformat_minor": 2
}
