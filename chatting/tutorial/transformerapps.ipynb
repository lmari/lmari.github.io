{
 "cells": [
  {
   "cell_type": "markdown",
   "metadata": {
    "id": "e9ZhCh9jQdVX"
   },
   "source": [
    "# Qualche esempio di uso dei transformer per il NLP\n",
    "\n",
    "Luca Mari, dicembre 2024  \n",
    "\n",
    "Quest'opera è distribuita con <a href=\"http://creativecommons.org/licenses/by-nc-sa/4.0\" target=\"_blank\">Licenza Creative Commons Attribuzione - Non commerciale - Condividi allo stesso modo 4.0 Internazionale</a>.  \n",
    "<img src=\"https://creativecommons.it/chapterIT/wp-content/uploads/2021/01/by-nc-sa.eu_.png\" width=\"100\">\n",
    "\n",
    "**Obiettivo**: essere informati di alcune possibili modalità di uso \"di alto livello\" dei trasformer per applicazioni con testi in lingua italiana e della libreria Python `transformers` di Hugging Face.  \n",
    "**Precompetenze**: basi di Python.\n",
    "\n",
    "> Per eseguire questo notebook con VSCode sul proprio calcolatore, occorre:\n",
    "> * installare un interprete Python\n",
    "> * scaricare da https://code.visualstudio.com/download e installare VSCode\n",
    "> * eseguire VSCode e attivare le estensioni per Python e Jupyter\n",
    "> * ancora in VSCode:\n",
    ">     * creare una cartella di lavoro e renderla la cartella corrente\n",
    ">     * copiare nella cartella il file di questa attività: [transformerapps.ipynb](transformerapps.ipynb)\n",
    ">     * aprire il notebook `transformerapps.ipynb`\n",
    ">     * creare un ambiente virtuale locale Python (Select Kernel | Python Environments | Create Python Environment | Venv, e scegliere un interprete Python):\n",
    ">     * installare i moduli Python richiesti, eseguendo dal terminale:  \n",
    ">         `pip install transformers torch`"
   ]
  },
  {
   "cell_type": "markdown",
   "metadata": {
    "id": "ch1W02NLQdVZ"
   },
   "source": [
    "Sappiamo che con sistemi come `ChatGPT` possiamo dialogare liberamente e in molte lingue. Grazie al modulo Python `transformers` di Hugging Face (https://huggingface.co/docs/transformers) e ai tanti modelli accessibili e scaricabili liberamente da Hugging Face stesso, con poche linee di codice Python è possibile costruire applicazioni con funzionalità specifiche, anche in grado di trattare testi in lingua italiana con una qualità spesso accettabile.\n",
    "\n",
    "I modelli in questione sono spesso di dimensioni relativamente piccole, e perciò possono essere eseguiti in locale. Anche se condividono la stessa architettura di base -- perché sono tutti transformer --, sono tipicamente addestrati per applicazioni specifiche.\n",
    "\n",
    "Nel seguito mostriamo alcuni esempi, per ognuno dei quali usiamo un modello appropriato."
   ]
  },
  {
   "cell_type": "markdown",
   "metadata": {},
   "source": [
    "Per prima cosa importiamo i moduli Python che useremo e specifichiamo che, per semplicità, faremo eseguire il codice sempre in CPU anche nel caso una GPU sia disponibile."
   ]
  },
  {
   "cell_type": "code",
   "execution_count": 5,
   "metadata": {},
   "outputs": [],
   "source": [
    "from transformers import pipeline, AutoTokenizer, AutoModel\n",
    "import numpy as np\n",
    "import matplotlib.pyplot as plt\n",
    "from pprint import pprint\n",
    "import warnings\n",
    "\n",
    "warnings.filterwarnings(\"ignore\")\n",
    "\n",
    "device = \"cpu\"\n",
    "\n",
    "def info(model):\n",
    "    print('Modello con:')\n",
    "    tokenizer = AutoTokenizer.from_pretrained(model)\n",
    "    print(f'-- un vocabolario di {tokenizer.vocab_size} token')\n",
    "    x = tokenizer.model_max_length\n",
    "    print(f'-- un contesto di {x} token') if x < 1e12 else print('-- un contesto di lunghezza non definita')\n",
    "    transformer = AutoModel.from_pretrained(model)\n",
    "    model_parameters = filter(lambda p: p.requires_grad, transformer.parameters())\n",
    "    y = sum([np.prod(p.size()) for p in model_parameters])\n",
    "    z = f\"{(y / 1e9):.2f}B\" if y > 1e9 else f\"{int(y / 1e6)}M\"\n",
    "    print(f'-- {z} parametri\\n')"
   ]
  },
  {
   "cell_type": "markdown",
   "metadata": {},
   "source": [
    "### 1. Part-of-Speech (POS) tagging\n",
    "(modello https://huggingface.co/sachaarbonel/bert-italian-cased-finetuned-pos)"
   ]
  },
  {
   "cell_type": "code",
   "execution_count": 2,
   "metadata": {},
   "outputs": [
    {
     "name": "stdout",
     "output_type": "stream",
     "text": [
      "Modello con:\n"
     ]
    },
    {
     "name": "stderr",
     "output_type": "stream",
     "text": [
      "Some weights of BertModel were not initialized from the model checkpoint at sachaarbonel/bert-italian-cased-finetuned-pos and are newly initialized: ['bert.pooler.dense.bias', 'bert.pooler.dense.weight']\n",
      "You should probably TRAIN this model on a down-stream task to be able to use it for predictions and inference.\n"
     ]
    },
    {
     "name": "stdout",
     "output_type": "stream",
     "text": [
      "-- un vocabolario di 31102 token\n",
      "-- un contesto di 512 token\n",
      "-- 109M parametri\n",
      "\n",
      "{'entity': 'AUX', 'score': 0.9989906, 'index': 1, 'word': 'abbiamo', 'start': 0, 'end': 7}\n",
      "{'entity': 'VERB', 'score': 0.99978894, 'index': 2, 'word': 'partecipato', 'start': 8, 'end': 19}\n",
      "{'entity': 'ADP', 'score': 0.99955493, 'index': 3, 'word': 'a', 'start': 20, 'end': 21}\n",
      "{'entity': 'DET', 'score': 0.99955136, 'index': 4, 'word': 'una', 'start': 22, 'end': 25}\n",
      "{'entity': 'NOUN', 'score': 0.9997603, 'index': 5, 'word': 'lezione', 'start': 26, 'end': 33}\n",
      "{'entity': 'ADJ', 'score': 0.99962294, 'index': 6, 'word': 'interessante', 'start': 34, 'end': 46}\n",
      "{'entity': 'PUNCT', 'score': 0.9856426, 'index': 7, 'word': '.', 'start': 46, 'end': 47}\n"
     ]
    }
   ],
   "source": [
    "model = \"sachaarbonel/bert-italian-cased-finetuned-pos\"\n",
    "info(model)\n",
    "pos = pipeline(\"token-classification\", model=model, device=device)\n",
    "sentence = \"Abbiamo partecipato a una lezione interessante.\"\n",
    "res = pos(sentence)\n",
    "\n",
    "if res is not None:\n",
    "    for part in res:\n",
    "        print(part)"
   ]
  },
  {
   "cell_type": "markdown",
   "metadata": {},
   "source": [
    "### 2. Sentiment analysis\n",
    "(modello https://huggingface.co/nlptown/bert-base-multilingual-uncased-sentiment)"
   ]
  },
  {
   "cell_type": "code",
   "execution_count": 48,
   "metadata": {},
   "outputs": [
    {
     "name": "stdout",
     "output_type": "stream",
     "text": [
      "Modello con:\n",
      "-- un vocabolario di 105879 token\n",
      "-- un contesto di 512 token\n",
      "-- 167M parametri\n",
      "\n",
      "[{'label': '1 star', 'score': 0.004161268938332796},\n",
      " {'label': '2 stars', 'score': 0.00405264925211668},\n",
      " {'label': '3 stars', 'score': 0.04070121422410011},\n",
      " {'label': '4 stars', 'score': 0.3171132802963257},\n",
      " {'label': '5 stars', 'score': 0.6339715719223022}]\n"
     ]
    },
    {
     "data": {
      "image/png": "[encoded data removed]",
      "text/plain": [
       "<Figure size 640x480 with 1 Axes>"
      ]
     },
     "metadata": {},
     "output_type": "display_data"
    }
   ],
   "source": [
    "model = 'nlptown/bert-base-multilingual-uncased-sentiment'\n",
    "info(model)\n",
    "classifier = pipeline(\"sentiment-analysis\", model=model, device=device)\n",
    "sentence = \"Ho trovato molto attraente questa lezione\"\n",
    "res = classifier(sentence, top_k=None)\n",
    "\n",
    "if res:\n",
    "    res = sorted(res, key=lambda x: x['label'])\n",
    "    pprint(res)\n",
    "\n",
    "    labels = [r['label'] for r in res]\n",
    "    scores = [r['score'] for r in res]\n",
    "    plt.bar(labels, scores)\n",
    "    plt.title(sentence)\n",
    "    plt.show()"
   ]
  },
  {
   "cell_type": "markdown",
   "metadata": {},
   "source": [
    "### 3. Zero-shot classification\n",
    "(modello https://huggingface.co/Jiva/xlm-roberta-large-it-mnli)"
   ]
  },
  {
   "cell_type": "code",
   "execution_count": 49,
   "metadata": {},
   "outputs": [
    {
     "name": "stdout",
     "output_type": "stream",
     "text": [
      "Modello con:\n",
      "-- un vocabolario di 250002 token\n",
      "-- un contesto di 512 token\n"
     ]
    },
    {
     "name": "stderr",
     "output_type": "stream",
     "text": [
      "Some weights of XLMRobertaModel were not initialized from the model checkpoint at Jiva/xlm-roberta-large-it-mnli and are newly initialized: ['roberta.pooler.dense.bias', 'roberta.pooler.dense.weight']\n",
      "You should probably TRAIN this model on a down-stream task to be able to use it for predictions and inference.\n"
     ]
    },
    {
     "name": "stdout",
     "output_type": "stream",
     "text": [
      "-- 559M parametri\n",
      "\n",
      "[('economia', 0.07337965071201324),\n",
      " ('geografia', 0.5523250699043274),\n",
      " ('politica', 0.11166965216398239),\n",
      " ('sport', 0.049734897911548615),\n",
      " ('storia', 0.1332821547985077),\n",
      " ('tecnologia', 0.07960861176252365)]\n"
     ]
    },
    {
     "data": {
      "image/png": "[encoded data removed]",
      "text/plain": [
       "<Figure size 640x480 with 1 Axes>"
      ]
     },
     "metadata": {},
     "output_type": "display_data"
    }
   ],
   "source": [
    "model = 'Jiva/xlm-roberta-large-it-mnli'\n",
    "info(model)\n",
    "classifier = pipeline(\"zero-shot-classification\", model=model, device=device)\n",
    "sentence = \"In questa lezione abbiamo presentato l'orografia del territorio italiano\"\n",
    "candidate_labels = [\"economia\", \"geografia\", \"politica\", \"sport\", \"storia\", \"tecnologia\"]\n",
    "res = classifier(sentence, candidate_labels=candidate_labels)\n",
    "\n",
    "if res:\n",
    "    res = zip(res['labels'], res['scores'])\n",
    "    res = sorted(res, key=lambda x: x[0])\n",
    "    pprint(res)\n",
    "\n",
    "    labels = [r[0] for r in res]\n",
    "    scores = [r[1] for r in res]\n",
    "    plt.bar(labels, scores)\n",
    "    plt.title(sentence)\n",
    "    plt.show()"
   ]
  },
  {
   "cell_type": "markdown",
   "metadata": {},
   "source": [
    "### 4. Named Entity Recognition (NER)\n",
    "(modello https://huggingface.co/osiria/deberta-base-italian-uncased-ner)"
   ]
  },
  {
   "cell_type": "code",
   "execution_count": 50,
   "metadata": {},
   "outputs": [
    {
     "name": "stdout",
     "output_type": "stream",
     "text": [
      "Modello con:\n",
      "-- un vocabolario di 50273 token\n",
      "-- un contesto di lunghezza non definita\n",
      "-- 124M parametri\n",
      "\n"
     ]
    },
    {
     "name": "stderr",
     "output_type": "stream",
     "text": [
      "Asking to truncate to max_length but no maximum length is provided and the model has no predefined maximum length. Default to no truncation.\n"
     ]
    },
    {
     "name": "stdout",
     "output_type": "stream",
     "text": [
      "\n",
      " Questa lezione ha riguardato Alan Turing e il suo lavoro a Cambridge e poi per decodificare Enigma \n",
      "\n",
      "{'entity_group': 'PER', 'score': 0.8034604, 'word': 'Alan Turing', 'start': 28, 'end': 40}\n",
      "{'entity_group': 'LOC', 'score': 0.88072294, 'word': 'Cambridge', 'start': 58, 'end': 68}\n",
      "{'entity_group': 'MISC', 'score': 0.942005, 'word': 'Enigma', 'start': 91, 'end': 98}\n"
     ]
    }
   ],
   "source": [
    "model = 'osiria/deberta-base-italian-uncased-ner'\n",
    "info(model)\n",
    "ner = pipeline(\"ner\", model=model, device=device, aggregation_strategy=\"simple\")\n",
    "sentence = \"Questa lezione ha riguardato Alan Turing e il suo lavoro a Cambridge e poi per decodificare Enigma\"\n",
    "res = ner(sentence)\n",
    "\n",
    "if res:\n",
    "    print('\\n', sentence, '\\n')\n",
    "    for entity in res:\n",
    "        print(entity)"
   ]
  },
  {
   "cell_type": "markdown",
   "metadata": {},
   "source": [
    "### 5. Fill mask\n",
    "(modello https://huggingface.co/Musixmatch/umberto-wikipedia-uncased-v1)"
   ]
  },
  {
   "cell_type": "code",
   "execution_count": 51,
   "metadata": {},
   "outputs": [
    {
     "name": "stdout",
     "output_type": "stream",
     "text": [
      "Modello con:\n",
      "-- un vocabolario di 32004 token\n",
      "-- un contesto di lunghezza non definita\n",
      "-- 110M parametri\n",
      "\n"
     ]
    },
    {
     "name": "stderr",
     "output_type": "stream",
     "text": [
      "Some weights of the model checkpoint at Musixmatch/umberto-wikipedia-uncased-v1 were not used when initializing CamembertForMaskedLM: ['roberta.pooler.dense.bias', 'roberta.pooler.dense.weight']\n",
      "- This IS expected if you are initializing CamembertForMaskedLM from the checkpoint of a model trained on another task or with another architecture (e.g. initializing a BertForSequenceClassification model from a BertForPreTraining model).\n",
      "- This IS NOT expected if you are initializing CamembertForMaskedLM from the checkpoint of a model that you expect to be exactly identical (initializing a BertForSequenceClassification model from a BertForSequenceClassification model).\n"
     ]
    },
    {
     "name": "stdout",
     "output_type": "stream",
     "text": [
      "\n",
      " In questa lezione stiamo discutendo di <mask> artificiale. \n",
      "\n",
      " n questa lezione stiamo discutendo di intelligenza artificiale. (0.77)\n",
      " n questa lezione stiamo discutendo di lingua artificiale. (0.04)\n",
      " n questa lezione stiamo discutendo di selezione artificiale. (0.01)\n"
     ]
    }
   ],
   "source": [
    "model = 'Musixmatch/umberto-wikipedia-uncased-v1'\n",
    "info(model)\n",
    "unmasker = pipeline(\"fill-mask\", model=model, device=device)\n",
    "sentence = \"In questa lezione stiamo discutendo di <mask> artificiale.\"\n",
    "res = unmasker(sentence, top_k=3)\n",
    "if res:\n",
    "    print('\\n', sentence, '\\n')\n",
    "    for fill in res:\n",
    "        print(f\" {fill['sequence']} ({fill['score']:0.2f})\")"
   ]
  },
  {
   "cell_type": "markdown",
   "metadata": {},
   "source": [
    "### 6. Question answering\n",
    "(modello https://huggingface.co/osiria/deberta-italian-question-answering)"
   ]
  },
  {
   "cell_type": "code",
   "execution_count": 52,
   "metadata": {},
   "outputs": [
    {
     "name": "stdout",
     "output_type": "stream",
     "text": [
      "Modello con:\n",
      "-- un vocabolario di 50255 token\n",
      "-- un contesto di lunghezza non definita\n",
      "-- 124M parametri\n",
      "\n",
      "Context: \n",
      "Una rete neurale è una struttura computazionale ispirata ai neuroni del cervello umano.\n",
      "È composta da strati di nodi interconnessi, chiamati neuroni,\n",
      "che elaborano e trasformano i dati di input in output.\n",
      "È nelle connessioni tra i neuroni che risiede la capacità di apprendimento della rete.\n",
      "\n",
      "Question: \n",
      "Cosa fa sì che una rete neurale sia in grado di adattare il suo comportamento,\n",
      "ottimizzandolo in funzione del contenuto del training set utilizzato nel suo addestramento?\n",
      "\n",
      "{'score': 0.7373588681221008, 'start': 213, 'end': 239, 'answer': ' connessioni tra i neuroni'}\n"
     ]
    }
   ],
   "source": [
    "model = 'osiria/deberta-italian-question-answering'\n",
    "info(model)\n",
    "question_answerer = pipeline(\"question-answering\", model=model, device=device)\n",
    "context = \"\"\"\n",
    "Una rete neurale è una struttura computazionale ispirata ai neuroni del cervello umano.\n",
    "È composta da strati di nodi interconnessi, chiamati neuroni,\n",
    "che elaborano e trasformano i dati di input in output.\n",
    "È nelle connessioni tra i neuroni che risiede la capacità di apprendimento della rete.\n",
    "\"\"\"\n",
    "question = \"\"\"\n",
    "Cosa fa sì che una rete neurale sia in grado di adattare il suo comportamento,\n",
    "ottimizzandolo in funzione del contenuto del training set utilizzato nel suo addestramento?\n",
    "\"\"\"\n",
    "res = question_answerer({'context': context, 'question': question})\n",
    "\n",
    "if res:\n",
    "    print('Context:', context)\n",
    "    print('Question:', question)\n",
    "    print(res)\n"
   ]
  },
  {
   "cell_type": "markdown",
   "metadata": {},
   "source": [
    "### 7. Text generation (completamento)\n",
    "(modello https://huggingface.co/google/gemma-2-2b-it)"
   ]
  },
  {
   "cell_type": "code",
   "execution_count": 6,
   "metadata": {},
   "outputs": [
    {
     "name": "stdout",
     "output_type": "stream",
     "text": [
      "Modello con:\n",
      "-- un vocabolario di 256000 token\n",
      "-- un contesto di lunghezza non definita\n"
     ]
    },
    {
     "data": {
      "application/vnd.jupyter.widget-view+json": {
       "model_id": "3b69ae55cd78479c9236156d93dd58a0",
       "version_major": 2,
       "version_minor": 0
      },
      "text/plain": [
       "Loading checkpoint shards:   0%|          | 0/2 [00:00<?, ?it/s]"
      ]
     },
     "metadata": {},
     "output_type": "display_data"
    },
    {
     "name": "stdout",
     "output_type": "stream",
     "text": [
      "-- 2.61B parametri\n",
      "\n"
     ]
    },
    {
     "data": {
      "application/vnd.jupyter.widget-view+json": {
       "model_id": "e17facd4001746c78f4bbde0a57cff98",
       "version_major": 2,
       "version_minor": 0
      },
      "text/plain": [
       "Loading checkpoint shards:   0%|          | 0/2 [00:00<?, ?it/s]"
      ]
     },
     "metadata": {},
     "output_type": "display_data"
    },
    {
     "name": "stdout",
     "output_type": "stream",
     "text": [
      "(\"In questa lezione sull'intelligenza artificiale, stiamo trattando di un \"\n",
      " \"argomento molto importante e complesso: **l'etica dell'intelligenza \"\n",
      " 'artificiale**. \\n'\n",
      " '\\n'\n",
      " '**Cosa significa \"etica dell\\'intelligenza artificiale\"?**\\n'\n",
      " '\\n'\n",
      " \"L'etica dell'intelligenza artificiale si occupa di **determinare i principi \"\n",
      " \"etici che dovrebbero guidare lo sviluppo e l'utilizzo di sistemi di \"\n",
      " 'intelligenza artificiale**. \\n'\n",
      " '\\n'\n",
      " '**Perché è')\n"
     ]
    }
   ],
   "source": [
    "model = \"google/gemma-2-2b-it\"\n",
    "info(model)\n",
    "generator = pipeline(\"text-generation\", model=model, device=device)\n",
    "sentence = \"In questa lezione sull'intelligenza artificiale, stiamo trattando di\"\n",
    "res = generator(sentence, max_length=100, truncation=False)\n",
    "\n",
    "if res:\n",
    "    pprint(res[0]['generated_text'])"
   ]
  },
  {
   "cell_type": "markdown",
   "metadata": {},
   "source": [
    "### 8. Text generation (Q&A)\n",
    "(modello https://huggingface.co/google/gemma-2-2b-it)"
   ]
  },
  {
   "cell_type": "code",
   "execution_count": 7,
   "metadata": {},
   "outputs": [
    {
     "name": "stdout",
     "output_type": "stream",
     "text": [
      "Modello con:\n",
      "-- un vocabolario di 256000 token\n",
      "-- un contesto di lunghezza non definita\n"
     ]
    },
    {
     "data": {
      "application/vnd.jupyter.widget-view+json": {
       "model_id": "946b6429e5d44f8daeaf416d4630e3c6",
       "version_major": 2,
       "version_minor": 0
      },
      "text/plain": [
       "Loading checkpoint shards:   0%|          | 0/2 [00:00<?, ?it/s]"
      ]
     },
     "metadata": {},
     "output_type": "display_data"
    },
    {
     "name": "stdout",
     "output_type": "stream",
     "text": [
      "-- 2.61B parametri\n",
      "\n"
     ]
    },
    {
     "data": {
      "application/vnd.jupyter.widget-view+json": {
       "model_id": "c33bfff0a79e4416a62f42c0e2c47c4c",
       "version_major": 2,
       "version_minor": 0
      },
      "text/plain": [
       "Loading checkpoint shards:   0%|          | 0/2 [00:00<?, ?it/s]"
      ]
     },
     "metadata": {},
     "output_type": "display_data"
    },
    {
     "name": "stdout",
     "output_type": "stream",
     "text": [
      "('\\n'\n",
      " '    Fai una sintesi in due frasi del testo che segue?\\n'\n",
      " '    Il metodo scientifico ci ha insegnato a fare previsioni sulla base (1) '\n",
      " 'di modelli dei fenomeni e (2) di dati: un modello ci dice che se il fenomeno '\n",
      " 'è in una certa condizione, osserveremo certi effetti, e i dati ci dicono che '\n",
      " 'siamo in una certa condizione; se tutto ciò è sufficientemente accurato, '\n",
      " 'possiamo supporre che osserveremo proprio gli effetti predetti dal modello '\n",
      " 'in base ai dati.\\n'\n",
      " '    Si tratta di una versione razionalizzata di ragionamenti che tutti noi, '\n",
      " \"anche senza rendercene conto, attuiamo abitualmente: dall'idea, un modello \"\n",
      " 'appunto, che ci siamo fatti di come la nostra automobile si comporta quando '\n",
      " 'freniamo e dai dati che otteniamo osservando intorno a noi mentre guidiamo, '\n",
      " 'concludiamo se, quando e quanto intensamente dobbiamo schiacciare il freno.\\n'\n",
      " '    Ma in questo momento non abbiamo modelli affidabili di quello che sta '\n",
      " 'succedendo a proposito dei sistemi cosiddetti di intelligenza artificiale '\n",
      " 'generativa, e quindi questa strategia non è applicabile.\\n'\n",
      " '    Quando non abbiamo un modello a cui affidarci, a volte ricorriamo a una '\n",
      " 'strategia di riserva: nel passato, in una certa condizione si sono prodotti '\n",
      " 'certi effetti; se ora i dati ci dicono che siamo in una condizione simile, '\n",
      " 'per analogia ipotizziamo che si produrranno effetti simili.\\n'\n",
      " '    Ragionando per analogia possiamo essere creativi, se troviamo nuove '\n",
      " 'connessioni tra le entità a cui ci stiamo interessando, ma paradossalmente '\n",
      " 'anche inerti di fronte ai cambiamenti, se ci ostiniamo a interpretare le '\n",
      " 'novità alla luce di quello che già sappiamo.\\n'\n",
      " '    Ma anche questa strategia analogica non funziona oggi a proposito dei '\n",
      " 'sistemi di intelligenza artificiale generativa: sia perché stiamo vivendo '\n",
      " 'una condizione decisamente nuova, e quindi non sappiamo bene con cosa del '\n",
      " 'passato confrontarla, sia perché le analogie sono valide quando i '\n",
      " 'cambiamenti sono lineari, e invece i cambiamenti che stiamo vivendo in '\n",
      " 'questi mesi sembrano proprio esponenziali.\\n'\n",
      " '    Insomma, se è spesso difficile fare previsioni affidabili senza modelli '\n",
      " 'e dati affidabili, nella situazione in cui siamo potremmo ammettere '\n",
      " 'onestamente che le nostre previsioni non hanno davvero nulla di affidabile.\\n'\n",
      " '    \\n'\n",
      " '\\n'\n",
      " '**Sintesi:**\\n'\n",
      " '\\n'\n",
      " 'Il testo analizza la difficoltà di fare previsioni sulla base di modelli e '\n",
      " 'dati, illustrando come questa strategia sia applicabile solo in situazioni '\n",
      " 'ben definite e con modelli affidabili. In particolare, il testo evidenzia '\n",
      " 'come la mancanza di modelli affidabili per i sistemi di intelligenza '\n",
      " 'artificiale generativa impedisca di applicare la strategia analogica, che si '\n",
      " 'basa su connessioni tra entità e analogie con eventi passati.\\n'\n",
      " '\\n'\n",
      " '\\n')\n"
     ]
    }
   ],
   "source": [
    "model = \"google/gemma-2-2b-it\"\n",
    "info(model)\n",
    "generator = pipeline(\"text-generation\", model=model, device=device)\n",
    "system_content = \"Sei un esperto che risponde in italiano. e sempre in modo amichevole.\"\n",
    "user_content = \"\"\"\n",
    "    Fai una sintesi in due frasi del testo che segue?\n",
    "    Il metodo scientifico ci ha insegnato a fare previsioni sulla base (1) di modelli dei fenomeni e (2) di dati: un modello ci dice che se il fenomeno è in una certa condizione, osserveremo certi effetti, e i dati ci dicono che siamo in una certa condizione; se tutto ciò è sufficientemente accurato, possiamo supporre che osserveremo proprio gli effetti predetti dal modello in base ai dati.\n",
    "    Si tratta di una versione razionalizzata di ragionamenti che tutti noi, anche senza rendercene conto, attuiamo abitualmente: dall'idea, un modello appunto, che ci siamo fatti di come la nostra automobile si comporta quando freniamo e dai dati che otteniamo osservando intorno a noi mentre guidiamo, concludiamo se, quando e quanto intensamente dobbiamo schiacciare il freno.\n",
    "    Ma in questo momento non abbiamo modelli affidabili di quello che sta succedendo a proposito dei sistemi cosiddetti di intelligenza artificiale generativa, e quindi questa strategia non è applicabile.\n",
    "    Quando non abbiamo un modello a cui affidarci, a volte ricorriamo a una strategia di riserva: nel passato, in una certa condizione si sono prodotti certi effetti; se ora i dati ci dicono che siamo in una condizione simile, per analogia ipotizziamo che si produrranno effetti simili.\n",
    "    Ragionando per analogia possiamo essere creativi, se troviamo nuove connessioni tra le entità a cui ci stiamo interessando, ma paradossalmente anche inerti di fronte ai cambiamenti, se ci ostiniamo a interpretare le novità alla luce di quello che già sappiamo.\n",
    "    Ma anche questa strategia analogica non funziona oggi a proposito dei sistemi di intelligenza artificiale generativa: sia perché stiamo vivendo una condizione decisamente nuova, e quindi non sappiamo bene con cosa del passato confrontarla, sia perché le analogie sono valide quando i cambiamenti sono lineari, e invece i cambiamenti che stiamo vivendo in questi mesi sembrano proprio esponenziali.\n",
    "    Insomma, se è spesso difficile fare previsioni affidabili senza modelli e dati affidabili, nella situazione in cui siamo potremmo ammettere onestamente che le nostre previsioni non hanno davvero nulla di affidabile.\n",
    "\"\"\"\n",
    "#res = generator([{\"role\": \"system\", \"content\": system_content}, {\"role\": \"user\", \"content\": user_content}], max_new_tokens=128)\n",
    "res = generator(user_content, max_new_tokens=128)\n",
    "\n",
    "if res:\n",
    "    pprint(res[0]['generated_text'])"
   ]
  }
 ],
 "metadata": {
  "colab": {
   "provenance": []
  },
  "kernelspec": {
   "display_name": ".venv",
   "language": "python",
   "name": "python3"
  },
  "language_info": {
   "codemirror_mode": {
    "name": "ipython",
    "version": 3
   },
   "file_extension": ".py",
   "mimetype": "text/x-python",
   "name": "python",
   "nbconvert_exporter": "python",
   "pygments_lexer": "ipython3",
   "version": "3.12.7"
  },
  "widgets": {
   "application/vnd.jupyter.widget-state+json": {
    "state": {},
    "version_major": 2,
    "version_minor": 0
   }
  }
 },
 "nbformat": 4,
 "nbformat_minor": 4
}
