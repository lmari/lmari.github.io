{
 "cells": [
  {
   "cell_type": "markdown",
   "metadata": {},
   "source": [
    "# La costruzione, l’addestramento, e il funzionamento di una semplice rete neurale per comprimere immagini\n",
    "\n",
    "Luca Mari, novembre 2024  \n",
    "\n",
    "Quest'opera è distribuita con <a href=\"http://creativecommons.org/licenses/by-nc-sa/4.0\" target=\"_blank\">Licenza Creative Commons Attribuzione - Non commerciale - Condividi allo stesso modo 4.0 Internazionale</a>.  \n",
    "<img src=\"https://creativecommons.it/chapterIT/wp-content/uploads/2021/01/by-nc-sa.eu_.png\" width=\"100\">\n",
    "\n",
    "**Obiettivo**: a partire da un esempio concreto, comprendere la logica del funzionamento di un _autoencoder_, una semplice rete neurale immpiegata qui per fare compressione di immagini.  \n",
    "**Precompetenze**: basi di Python.\n",
    "\n",
    "> Per eseguire questo notebook con VSCode sul proprio calcolatore, occorre:\n",
    "> * installare un interprete Python\n",
    "> * scaricare da https://code.visualstudio.com/download e installare VSCode\n",
    "> * eseguire VSCode e attivare le estensioni per Python e Jupyter\n",
    "> * ancora in VSCode:\n",
    ">     * creare una cartella di lavoro e renderla la cartella corrente\n",
    ">     * copiare nella cartella il file di questa attività: [autoencoder.ipynb](autoencoder.ipynb)\n",
    ">     * aprire il notebook `autoencoder.ipynb`\n",
    ">     * creare un ambiente virtuale locale Python (Select Kernel | Python Environments | Create Python Environment | Venv, e scegliere un interprete Python):\n",
    ">     * installare i moduli Python richiesti, eseguendo dal terminale:  \n",
    ">         `pip install torch torchvision numpy matplotlib`"
   ]
  },
  {
   "cell_type": "markdown",
   "metadata": {},
   "source": [
    "La rete che costruiremo ha lo scopo, apparentemente inutile, di realizzare una funzione identità: generare un output che sia uguale all'input ricevuto. Questo comportamento è invece interessante perché la rete opera come un sistema di compressione di dati: in riferimento al [dataset MNIST](https://en.wikipedia.org/wiki/MNIST_database), che contiene immagini di cifre scritte a mano, ogni immagine è una matrice di 28x28 punti in cui a ogni punto è associato un colore nella scala dei grigi, e quindi l'input è un'immagine di 28x28 = 768 bytes.  \n",
    "Nel corso del suo addestramento, la rete dovrebbe imparare a riconoscere le strutture presenti nelle immagini, in modo che in uscita dalla sua prima parte -- l'_encoder_ -- l'informazione su un'immagine sia mantenuta in (per esempio) 32 neuroni, sufficienti perché in uscita dalla seconda parte della rete -- il _decoder_ -- l'immagine possa essere rigenerata con una qualità sufficiente. Nel suo complesso, una rete di questo genere si chiama _autoencoder_.\n",
    "\n",
    "Dopo aver importato i moduli Python necessari, carichiamo le immagini del training set (la prima volta i file con le immagini saranno scaricati dal web e copiati in una cartella locale)."
   ]
  },
  {
   "cell_type": "code",
   "execution_count": 15,
   "metadata": {},
   "outputs": [],
   "source": [
    "import torch\n",
    "from torch import nn\n",
    "import torch.utils\n",
    "from torchvision import datasets, transforms\n",
    "import matplotlib.pyplot as plt\n",
    "import random\n",
    "\n",
    "training_set = datasets.MNIST(root=\"data\",              # 60000 immagini, ognuna di 28x28 pixel\n",
    "                         train=True,                    # training set\n",
    "                         download=True,\n",
    "                         transform=transforms.ToTensor())\n",
    "\n",
    "train_loader = torch.utils.data.DataLoader(dataset=training_set,\n",
    "                                     batch_size=32,     # se ogni batch ha 32 immagini, ci sono 60000/32 = 1875 batch\n",
    "                                     shuffle=True)"
   ]
  },
  {
   "cell_type": "markdown",
   "metadata": {},
   "source": [
    "Un dettaglio tecnico: mostriamo come funziona il loader."
   ]
  },
  {
   "cell_type": "code",
   "execution_count": 98,
   "metadata": {},
   "outputs": [
    {
     "name": "stdout",
     "output_type": "stream",
     "text": [
      "Ogni batch ha questa struttura:\n",
      "immagini: torch.Size([32, 1, 28, 28]); etichette: torch.Size([32])\n",
      "\n",
      "La prima immagine del batch ha come etichetta 4 ed è:\n"
     ]
    },
    {
     "data": {
      "image/png": "[encoded data removed]",
      "text/plain": [
       "<Figure size 200x200 with 1 Axes>"
      ]
     },
     "metadata": {},
     "output_type": "display_data"
    }
   ],
   "source": [
    "images, labels = next(iter(train_loader)) # il loader è un iteratore; prendendo il suo primo elemento, si ottiene il primo batch...\n",
    "print(f'Ogni batch ha questa struttura:\\nimmagini: {images.shape}; etichette: {labels.shape}') # ... di 32 immagini e 32 etichette\n",
    "\n",
    "print(f'\\nLa prima immagine del batch ha come etichetta {labels[0].item()} ed è:')\n",
    "\n",
    "plt.figure(figsize=(2, 2))\n",
    "\n",
    "plt.imshow(images[0][0].numpy(), cmap=\"gray\")\n",
    "plt.axis(\"off\")\n",
    "plt.show()"
   ]
  },
  {
   "cell_type": "markdown",
   "metadata": {},
   "source": [
    "Costruiamo e instanziamo la rete, e definiamo quindi la funzione di errore e la funzione di ottimizzazione per il suo addestramento."
   ]
  },
  {
   "cell_type": "code",
   "execution_count": null,
   "metadata": {},
   "outputs": [
    {
     "name": "stdout",
     "output_type": "stream",
     "text": [
      "Questa è dunque una rete con 222384 parametri.\n"
     ]
    }
   ],
   "source": [
    "class Autoencoder(nn.Module):\n",
    "    def __init__(self):\n",
    "        super().__init__()\n",
    "\n",
    "        self.encoder = torch.nn.Sequential(\n",
    "            nn.Linear(28 * 28, 128),\n",
    "            nn.ReLU(),\n",
    "            nn.Linear(128, 64),\n",
    "            nn.ReLU(),\n",
    "            nn.Linear(64, 32)\n",
    "        )\n",
    "         \n",
    "        self.decoder = torch.nn.Sequential(\n",
    "            nn.Linear(32, 64),\n",
    "            nn.ReLU(),\n",
    "            nn.Linear(64, 128),\n",
    "            nn.ReLU(),\n",
    "            nn.Linear(128, 28 * 28),\n",
    "            nn.Sigmoid()\n",
    "        )\n",
    "\n",
    "    def forward(self, x, mode='encoder_decoder'):\n",
    "        if mode != 'decoder_only': x = self.encoder(x)\n",
    "        if mode != 'encoder_only': x = self.decoder(x)\n",
    "        return x\n",
    "\n",
    "model = Autoencoder()\n",
    "\n",
    "num_MLP_params = sum(p.numel() for p in model.parameters())\n",
    "print(f\"Questa è dunque una rete con {num_MLP_params} parametri.\")\n",
    "\n",
    "loss_function = torch.nn.MSELoss()\n",
    "optimizer = torch.optim.Adam(model.parameters(), lr = 1e-3)"
   ]
  },
  {
   "cell_type": "markdown",
   "metadata": {},
   "source": [
    "Per adddestrare la rete occorre far lavorare insieme l'encoder e il decoder, in modo da far sì che il secondo impari a operare in funzione del primo (come si vede sotto, la funzione di errore converge rapidamente, e quindi sono sufficienti poche epoche)."
   ]
  },
  {
   "cell_type": "code",
   "execution_count": 93,
   "metadata": {},
   "outputs": [
    {
     "name": "stdout",
     "output_type": "stream",
     "text": [
      "Epoche:  1 2 3 "
     ]
    },
    {
     "data": {
      "image/png": "[encoded data removed]",
      "text/plain": [
       "<Figure size 640x480 with 1 Axes>"
      ]
     },
     "metadata": {},
     "output_type": "display_data"
    }
   ],
   "source": [
    "epochs = 3\n",
    "losses = []\n",
    "outcomes = []\n",
    "i = 0\n",
    "print('Epoche: ', end=\" \")\n",
    "for epoch in range(epochs): # per ogni epoca\n",
    "    for (images, _) in train_loader: # per ognuno dei 1875 batch\n",
    "        images = images.reshape(-1, 28*28) # considera in parallelo ognuna delle 32 immagini del batch\n",
    "        reconstructed = model(images) # e ricostruiscila\n",
    "\n",
    "        loss = loss_function(reconstructed, images)\n",
    "        optimizer.zero_grad()\n",
    "        loss.backward()\n",
    "        optimizer.step()\n",
    "\n",
    "        losses.append(loss.item()) # salva il valore della funzione di errore per ogni batch dell'epoca\n",
    "    \n",
    "    outcomes.append((epoch, images, reconstructed)) # per ogni epoca, salva le immagini originali e le immagini ricostruite dell'ultimo batch\n",
    "    print(1+epoch, end=\" \")\n",
    "\n",
    "plt.style.use('ggplot')\n",
    "plt.xlabel('iterazioni (numero di batch)')\n",
    "plt.ylabel('funzione di errore')\n",
    "plt.plot(losses)\n",
    "plt.show()"
   ]
  },
  {
   "cell_type": "markdown",
   "metadata": {},
   "source": [
    "Vediamo gli effetti dell'addestramento scegliendo in modo casuale un'immagine dell'ultimo batch dell'ultima epoca di addestramento e visualizzandola insieme con la sua versione ricostruita."
   ]
  },
  {
   "cell_type": "code",
   "execution_count": 102,
   "metadata": {},
   "outputs": [
    {
     "data": {
      "image/png": "[encoded data removed]",
      "text/plain": [
       "<Figure size 400x400 with 2 Axes>"
      ]
     },
     "metadata": {},
     "output_type": "display_data"
    }
   ],
   "source": [
    "epoch = epochs - 1 # ultima epoca\n",
    "n = random.randint(0, 31) # scegli una delle 32 immagini del batch\n",
    "input = outcomes[epoch][1][n].reshape(28, 28).detach().numpy()\n",
    "output = outcomes[epoch][2][n].reshape(28, 28).detach().numpy()\n",
    "plt.figure(figsize=(4, 4))\n",
    "plt.subplot(1, 2, 1)\n",
    "plt.imshow(input, cmap=\"gray\")\n",
    "plt.axis(\"off\")\n",
    "plt.subplot(1, 2, 2)\n",
    "plt.imshow(output, cmap=\"gray\")\n",
    "plt.axis(\"off\")\n",
    "plt.show()"
   ]
  },
  {
   "cell_type": "markdown",
   "metadata": {},
   "source": [
    "Mettiamo ora alla prova la qualità dell'autoencoder come sistema di compressione di dati operando su un batch di immagini diverse da quelle usate nell'addestramento."
   ]
  },
  {
   "cell_type": "code",
   "execution_count": 104,
   "metadata": {},
   "outputs": [],
   "source": [
    "testset = datasets.MNIST(root=\"data\",\n",
    "                         train=False,                    # test set\n",
    "                         download=True,\n",
    "                         transform=transforms.ToTensor())\n",
    "\n",
    "test_loader = torch.utils.data.DataLoader(dataset=testset,\n",
    "                                     batch_size=32,\n",
    "                                     shuffle=True)\n",
    "\n",
    "images, _ = next(iter(test_loader))\n",
    "images = images.reshape(-1, 28*28)"
   ]
  },
  {
   "cell_type": "markdown",
   "metadata": {},
   "source": [
    "Scegliamo in modo casuale un'immagine dal batch e visualizziamola insieme con la sua versione ricostruita."
   ]
  },
  {
   "cell_type": "code",
   "execution_count": 109,
   "metadata": {},
   "outputs": [
    {
     "name": "stdout",
     "output_type": "stream",
     "text": [
      "Un'immagine, inizialmente mantenuta in un vettore di 784 byte,\n",
      "è stata compressa in un vettore di 32 numeri, ognuno di 2 byte,\n",
      "per un totale di 64 byte, dunque con un rapporto di compressione di 784/64 = 12.25.\n"
     ]
    },
    {
     "data": {
      "image/png": "[encoded data removed]",
      "text/plain": [
       "<Figure size 400x400 with 2 Axes>"
      ]
     },
     "metadata": {},
     "output_type": "display_data"
    }
   ],
   "source": [
    "encoded = model(images, mode='encoder_only')                # codifica le immagini\n",
    "encoded16 = encoded.detach().numpy().astype('float16')      # trasforma in un vettore di numeri a 16 bit\n",
    "\n",
    "print(f\"Un'immagine, inizialmente mantenuta in un vettore di {28*28} byte,\")\n",
    "print(f\"è stata compressa in un vettore di {encoded16.shape[1]} numeri, ognuno di 2 byte,\")\n",
    "print(f\"per un totale di {encoded16.shape[1]*2} byte, dunque con un rapporto di compressione di {28*28}/{encoded16.shape[1]*2} = {(28*28)/(encoded16.shape[1]*2)}.\")\n",
    "\n",
    "\n",
    "to_decode = torch.tensor(encoded16, dtype=torch.float32)    # trasforma encoded16 in un tensore con i tipi di dati corretti\n",
    "decoded = model(to_decode, mode='decoder_only')             # e quindi decodifica le immagini\n",
    "\n",
    "n = random.randint(0, 31)\n",
    "input = images[n].reshape(28, 28).detach().numpy()\n",
    "output = decoded[n].reshape(28, 28).detach().numpy()\n",
    "plt.figure(figsize=(4, 4))\n",
    "plt.subplot(1, 2, 1)\n",
    "plt.imshow(input, cmap=\"gray\")\n",
    "plt.axis(\"off\")\n",
    "plt.subplot(1, 2, 2)\n",
    "plt.imshow(output, cmap=\"gray\")\n",
    "plt.axis(\"off\")\n",
    "plt.show()"
   ]
  }
 ],
 "metadata": {
  "kernelspec": {
   "display_name": ".venv",
   "language": "python",
   "name": "python3"
  },
  "language_info": {
   "codemirror_mode": {
    "name": "ipython",
    "version": 3
   },
   "file_extension": ".py",
   "mimetype": "text/x-python",
   "name": "python",
   "nbconvert_exporter": "python",
   "pygments_lexer": "ipython3",
   "version": "3.12.6"
  }
 },
 "nbformat": 4,
 "nbformat_minor": 2
}
